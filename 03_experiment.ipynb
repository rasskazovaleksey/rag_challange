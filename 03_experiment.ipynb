{
 "cells": [
  {
   "metadata": {
    "ExecuteTime": {
     "end_time": "2025-03-06T17:26:24.982873Z",
     "start_time": "2025-03-06T17:26:23.033563Z"
    }
   },
   "cell_type": "code",
   "source": [
    "from ExperimentPipelineV2 import ExperimentPipelineV2\n",
    "\n",
    "dummy = ExperimentPipelineV2(\n",
    "    name=\"dummy\",\n",
    "    llm=None,\n",
    "    repo=None,\n",
    ")"
   ],
   "id": "69e5283ad3cfec22",
   "outputs": [],
   "execution_count": 1
  },
  {
   "metadata": {},
   "cell_type": "markdown",
   "source": "# Questions preprocessing.",
   "id": "bd57dec22bf49eee"
  },
  {
   "metadata": {
    "ExecuteTime": {
     "end_time": "2025-03-06T17:26:24.993187Z",
     "start_time": "2025-03-06T17:26:24.989857Z"
    }
   },
   "cell_type": "code",
   "source": [
    "# small chunk correct\n",
    "question = \"For SThree plc, what was the value of End-of-year total headcount at the end of the period listed in annual report? If data is not available, return 'N/A'.\"\n",
    "correct_answer_page = 3\n",
    "sha1 = \"67185fca2a09b3c46ee961b2c1ae160dab8b5231\"\n",
    "\n",
    "# big chunk correct\n",
    "# question = \"Which leadership positions changed at Crombie REIT in the reporting period? If data is not available, return 'N/A'. Give me the title of the position.\"\n",
    "# correct_answer_page = 3\n",
    "# sha1 = \"14fa568899745270c4ff2c10073f97f2c2e7764b\"\n",
    "\n",
    "# Both\n",
    "# question = \"What was the Capital expenditures (in USD) for Structural Monitoring Systems Plc according to the annual report (within the last period or at the end of the last period)? If data is not available, return 'N/A'.\"\n",
    "# correct_answer_page = 38\n",
    "# sha1= \"3e5ccdb58faf901e75e31f154cb8330869ca5efa\""
   ],
   "id": "e9f521870dc1e7bc",
   "outputs": [],
   "execution_count": 2
  },
  {
   "metadata": {
    "ExecuteTime": {
     "end_time": "2025-03-06T17:26:25.107490Z",
     "start_time": "2025-03-06T17:26:25.102652Z"
    }
   },
   "cell_type": "code",
   "source": [
    "extracts = [dummy.extract(q) for q in dummy.questions]\n",
    "extracts = list(filter(lambda x: x['original_question'] == question, extracts))[0]\n",
    "extracts"
   ],
   "id": "532c6a2be46792d4",
   "outputs": [
    {
     "data": {
      "text/plain": [
       "{'original_question': \"For SThree plc, what was the value of End-of-year total headcount at the end of the period listed in annual report? If data is not available, return 'N/A'.\",\n",
       " 'metric': 'End-of-year total headcount',\n",
       " 'companies': ['SThree plc'],\n",
       " 'currency': None,\n",
       " 'comparison': None,\n",
       " 'category': 'industry_metric',\n",
       " 'type': 'number',\n",
       " 'sha1': '67185fca2a09b3c46ee961b2c1ae160dab8b5231'}"
      ]
     },
     "execution_count": 3,
     "metadata": {},
     "output_type": "execute_result"
    }
   ],
   "execution_count": 3
  },
  {
   "metadata": {
    "ExecuteTime": {
     "end_time": "2025-03-06T17:26:25.122593Z",
     "start_time": "2025-03-06T17:26:25.115127Z"
    }
   },
   "cell_type": "code",
   "source": [
    "synonyms_lookup = dummy.read_synonyms()\n",
    "synonyms_lookup = list(filter(lambda x: x['metric'] == extracts['metric'], synonyms_lookup))[0]\n",
    "synonyms_lookup"
   ],
   "id": "f0e98daac8f40cd0",
   "outputs": [
    {
     "data": {
      "text/plain": [
       "{'metric': 'End-of-year total headcount',\n",
       " 'synonyms': [{'text': 'Year-end employee count', 'score': 0.95},\n",
       "  {'text': 'Total staff at year-end', 'score': 0.92},\n",
       "  {'text': 'Year-end workforce size', 'score': 0.9},\n",
       "  {'text': 'End-of-year personnel count', 'score': 0.88},\n",
       "  {'text': 'Year-end headcount total', 'score': 0.85}]}"
      ]
     },
     "execution_count": 4,
     "metadata": {},
     "output_type": "execute_result"
    }
   ],
   "execution_count": 4
  },
  {
   "metadata": {},
   "cell_type": "markdown",
   "source": "",
   "id": "3e65fd30be05aed9"
  },
  {
   "cell_type": "code",
   "id": "initial_id",
   "metadata": {
    "collapsed": true,
    "ExecuteTime": {
     "end_time": "2025-03-06T17:26:30.143116Z",
     "start_time": "2025-03-06T17:26:25.129967Z"
    }
   },
   "source": [
    "from lib.DataRepository import DataRepository\n",
    "from lib.EmbeddingProvider import WatsonEmbeddingProvider, OpenAiEmbeddingProvider\n",
    "\n",
    "repoSmall = DataRepository(\n",
    "    embedding=WatsonEmbeddingProvider(),\n",
    "    db_path=\"./data/db/watson_ai_large_100_10_filtered\",\n",
    "    path=\"./data/r2.0/pdfs\",\n",
    "    name=\"watson_ai_large_100_10_filtered\",\n",
    ")\n",
    "dummy.repo = repoSmall\n",
    "search = dummy.search_database(synonyms_lookup, extracts, main=10, side=5)\n",
    "smallCandidates = dummy.filter_candidates(search, size=10)\n",
    "smallCandidates"
   ],
   "outputs": [
    {
     "data": {
      "text/plain": [
       "[(119, {'count': 7, 'score': 0.4317506636892046}),\n",
       " (69, {'count': 3, 'score': 0.415793498357137}),\n",
       " (85, {'count': 3, 'score': 0.4354545772075653}),\n",
       " (3, {'count': 3, 'score': 0.44261035323143005}),\n",
       " (83, {'count': 3, 'score': 0.4451092878977458}),\n",
       " (125, {'count': 2, 'score': 0.3707282245159149}),\n",
       " (97, {'count': 2, 'score': 0.4507458955049515}),\n",
       " (57, {'count': 2, 'score': 0.46351566910743713}),\n",
       " (87, {'count': 1, 'score': 0.41389596462249756}),\n",
       " (39, {'count': 1, 'score': 0.41389599442481995})]"
      ]
     },
     "execution_count": 5,
     "metadata": {},
     "output_type": "execute_result"
    }
   ],
   "execution_count": 5
  },
  {
   "metadata": {
    "ExecuteTime": {
     "end_time": "2025-03-06T17:26:34.339657Z",
     "start_time": "2025-03-06T17:26:30.148225Z"
    }
   },
   "cell_type": "code",
   "source": [
    "repoBig = DataRepository(\n",
    "    embedding=WatsonEmbeddingProvider(),\n",
    "    db_path=\"./data/db/watson_ai_large_1000_100_filtered\",\n",
    "    path=\"./data/r2.0/pdfs\",\n",
    "    name=\"watson_ai_large_1000_100_filtered\",\n",
    ")\n",
    "\n",
    "dummy.repo = repoBig\n",
    "search = dummy.search_database(synonyms_lookup, extracts, main=10, side=5)\n",
    "bigCandidates = dummy.filter_candidates(search, size=10)\n",
    "bigCandidates"
   ],
   "id": "4936a3f42d6f917f",
   "outputs": [
    {
     "data": {
      "text/plain": [
       "[(105, {'count': 5, 'score': 0.5703718423843384}),\n",
       " (85, {'count': 5, 'score': 0.5749886989593506}),\n",
       " (106, {'count': 4, 'score': 0.576771929860115}),\n",
       " (97, {'count': 3, 'score': 0.5534367163976034}),\n",
       " (83, {'count': 2, 'score': 0.5704290866851807}),\n",
       " (104, {'count': 2, 'score': 0.5865854322910309}),\n",
       " (87, {'count': 2, 'score': 0.5889977216720581}),\n",
       " (81, {'count': 2, 'score': 0.6009736657142639}),\n",
       " (86, {'count': 2, 'score': 0.6045263409614563}),\n",
       " (96, {'count': 1, 'score': 0.5649453401565552})]"
      ]
     },
     "execution_count": 6,
     "metadata": {},
     "output_type": "execute_result"
    }
   ],
   "execution_count": 6
  },
  {
   "metadata": {
    "ExecuteTime": {
     "end_time": "2025-03-06T17:26:34.347777Z",
     "start_time": "2025-03-06T17:26:34.345014Z"
    }
   },
   "cell_type": "code",
   "source": [
    "mergedCandidates = dummy.merge_data(smallCandidates + bigCandidates)\n",
    "mergedCandidates"
   ],
   "id": "43dcb25e9a101d4e",
   "outputs": [
    {
     "data": {
      "text/plain": [
       "[(85, {'count': 8, 'score': 0.5226634033024311}),\n",
       " (119, {'count': 7, 'score': 0.4317506636892046}),\n",
       " (83, {'count': 5, 'score': 0.4952372074127197}),\n",
       " (97, {'count': 5, 'score': 0.5123603880405426}),\n",
       " (105, {'count': 5, 'score': 0.5703718423843384}),\n",
       " (106, {'count': 4, 'score': 0.576771929860115}),\n",
       " (69, {'count': 3, 'score': 0.415793498357137}),\n",
       " (3, {'count': 3, 'score': 0.44261035323143005}),\n",
       " (87, {'count': 3, 'score': 0.5306304693222046}),\n",
       " (125, {'count': 2, 'score': 0.3707282245159149}),\n",
       " (57, {'count': 2, 'score': 0.46351566910743713}),\n",
       " (104, {'count': 2, 'score': 0.5865854322910309}),\n",
       " (81, {'count': 2, 'score': 0.6009736657142639}),\n",
       " (86, {'count': 2, 'score': 0.6045263409614563}),\n",
       " (39, {'count': 1, 'score': 0.41389599442481995}),\n",
       " (96, {'count': 1, 'score': 0.5649453401565552})]"
      ]
     },
     "execution_count": 7,
     "metadata": {},
     "output_type": "execute_result"
    }
   ],
   "execution_count": 7
  },
  {
   "metadata": {},
   "cell_type": "markdown",
   "source": "# Extracting relevant documents.",
   "id": "19ef6609ba80ee55"
  },
  {
   "metadata": {
    "ExecuteTime": {
     "end_time": "2025-03-06T17:26:39.632466Z",
     "start_time": "2025-03-06T17:26:34.367805Z"
    }
   },
   "cell_type": "code",
   "source": [
    "documents = dummy.read_pdf(sha1, mergedCandidates)\n",
    "assert len(documents) == len(mergedCandidates)\n",
    "# documents = documents[0:1]\n",
    "documents"
   ],
   "id": "45f2866a726ebb9f",
   "outputs": [
    {
     "data": {
      "text/plain": [
       "[(Document(metadata={'producer': 'Adobe PDF Library 16.0.7', 'creator': 'Adobe InDesign 17.3 (Macintosh)', 'creationdate': '2023-03-02T12:01:58+00:00', 'moddate': '2023-03-03T08:40:21+00:00', 'trapped': '/False', 'source': './data/r2.0/pdfs/67185fca2a09b3c46ee961b2c1ae160dab8b5231.pdf', 'total_pages': 129, 'page': 3, 'page_label': '4', 'id': 3, 'sha1': '67185fca2a09b3c46ee961b2c1ae160dab8b5231'}, page_content='Overview\\nSThree at a glance\\nProviding STEM \\ntalent wherever and \\nwhenever it’s needed\\nEvery sector in every region faces the similar challenges of climate \\nchange, decarbonisation, digitalisation and increased demand for \\nhealth and pharmaceutical innovation. They find solutions through \\nSTEM-skilled expertise.\\nEmpower our people\\nOur Group employs over 3,000 \\npeople worldwide. We build \\nan open and inclusive culture \\nand offer a flexible working \\nenvironment. Our business is full \\nof proactive, forward-looking \\npeople who bring energy and fun \\nto the workplace. They care about \\neach other – collaboration is key \\nto everything we do.\\n  See Strategic progress – Our People \\non page 42\\n  See Market overview  \\non page 12\\n  See Responsible business  \\non page 52\\nCreate long-term \\nsustainable value\\nWe continue to invest in our \\nbusiness and grow our talent \\nwith environmental, social and \\ngovernance (ESG) considerations \\nembedded in our strategy. \\nWithin our markets we contribute \\nto economic progress through \\ndelivering employment \\nopportunities and empowering \\nbusiness growth. Ultimately, we \\nwork towards a sustainable future \\nthat works for everyone.\\nBe the leading provider \\nof STEM talent\\nSTEM skills underpin the \\nincreasingly technical, \\ninterconnected and fast-paced \\nway of life we are living. The \\ntalented people we place are \\nsolving some of the most complex \\nchallenges the world faces today.\\nWe aim to:\\n2022 performance highlights1\\nOur consistent strategic focus on STEM skills and flexible talent delivered record results against an uncertain \\neconomic backdrop. In 2022, sales remained strong, with good new placement activity. Our lead indicators, \\nincluding a strong contractor order book, give us confidence in the resilience and ability of our business to continue \\nto deliver profitable growth in the future. \\nNet fees\\n£431m\\n2021 £356m\\n2020 £309m\\n2022 £431m\\nBasic earnings per share\\n41.0p\\n2021 31.9p\\n2020 14.2p\\n2022 41.0p\\neNPS\\n51\\n2021 43\\n2022 51\\nLives positively impacted2\\n32,970 \\n2021 33,150\\n2020 22,621\\n2022 32,970\\nOperating profit\\n£78m\\n2021 £61m\\n2020 £32m\\n2022 £78m\\nNet cash \\n£65m\\n2021 £58m\\n2020 £50m\\n2022 £65m\\nNPS\\n52\\n2021 50\\n2020 52\\n2022 52\\nEmployees\\n3,119\\n2021 2,735\\n2020 2,608\\n2022 3,119\\n2020 5\\n1 The Group also uses alternative performance measures (APMs) to help explain its business performance. Further information on APMs, including a reconciliation to \\nthe financial statements (where appropriate), can be found on pages 244 to 247.\\n2 Through delivering recruitment solutions and community programmes in 2022 alone.\\n Annual Report and Accounts 2022  P-05P-04 SThree plc sthree.com'),\n",
       "  0.0),\n",
       " (Document(metadata={'producer': 'Adobe PDF Library 16.0.7', 'creator': 'Adobe InDesign 17.3 (Macintosh)', 'creationdate': '2023-03-02T12:01:58+00:00', 'moddate': '2023-03-03T08:40:21+00:00', 'trapped': '/False', 'source': './data/r2.0/pdfs/67185fca2a09b3c46ee961b2c1ae160dab8b5231.pdf', 'total_pages': 129, 'page': 39, 'page_label': '40', 'id': 39, 'sha1': '67185fca2a09b3c46ee961b2c1ae160dab8b5231'}, page_content='Strategic Report\\nGHG emissions (tCO 2e) and associated energy consumption (kWh) for 2022\\n2021 2022 % change in  \\ntotal emissions  \\n(vs previous year)Emissions Source (tCO2e)1\\nUK and  \\noffshore\\nGlobal (excluding \\nUK and offshore)\\nUK and  \\noffshore\\nGlobal (excluding \\nUK and offshore)\\nScope 1\\nNatural gas 26 – 15 – -42%\\nLeased transport 13 335 11 235 -29%\\nRefrigerant 26 – – – -100%\\nScope 2\\nPurchased electricity  \\n(market/location based) 46/74 269/312 38/64 276/335 +3%\\nOther fuels  \\n(heat and steam) – 22 – 15 -32%\\nScope 3\\nWater 1 5 2 1 -50%\\nBusiness travel 29 286 1,198 621 +477%\\nPaper 1 2 2 1 0%\\nWaste 3 18 2 4 -71%\\nT&D and WTT 36 204 28 171 -17%\\nTotal tonnes of CO 2e (market based) 182 1,142 1,296 1,324 +98%\\nTotal tonnes of CO 2e (location based) 2 209 1,185 1,322 1,383 +94%\\nNumber of employees 692 2,043 756 2,364 –\\nTonnes of CO 2e per employee 0.26 0.56 1.71 0.56 +74%\\nTotal energy consumption used to calculate \\nemissions (kWh)3 1,189,920 570,627 531,177 2,707,760 +84%\\n1 Based on IEA data from the IEA (2021) Emissions factors, www.iea.org/statistics . All rights reserved; as modified by SThree plc.\\n2 Totals may not match exactly the sum of the figures shown in the table, due to rounding across all emission categories. \\n3 Total energy consumption includes energy consumed for heating (natural gas, district heating), power (electricity) and transport (company leased vehicles, \\nexpensed mileage claims).\\nTable 1 - Energy and carbon disclosures for reporting year 1 December 2021–30 November 2022\\nMethodology\\nThe methodology used to calculate the GHG emissions is in accordance with the requirements of the following \\nstandards:\\n• World Resources Institute (WRI) Greenhouse Gas (GHG) Protocol (revised version).\\n• Defra’s Environmental Reporting Guidelines: Including Streamlined Energy and Carbon Reporting requirements \\n(March 2019).\\n• Office emissions have been calculated using the IEA 2022, DEFRA 2022 issue of the conversion factor repository.\\nFollowing an operational control approach to defining our organisational boundary, our calculated GHG emissions \\nfrom business activities fall within the reporting period of December 2021 to November 2022 and using reporting \\nperiod of December 2020 to November 2021 for comparison.\\nResponsible business  continued\\nTargets\\nDescribe the targets used by the organisation to manage climate-related risks and opportunities \\nand performance against targets. \\nWe have had carbon reduction targets since 2018 and \\nhave seen a 44% reduction in our carbon footprint \\nsince then. This has been a key priority of the Group \\nto ensure we minimise the risk of changing client and \\ncandidate preferences and maximise the opportunity \\nof being a ‘green’ recruiter. \\nIn 2022, we established net zero working groups \\nfor each of our high emission sources with the sole \\nobjective of developing carbon reduction plans and \\nensuring these are embedded within our operating \\nplans. These groups include subject matter experts \\nalongside business leaders who will shape and drive \\nsustainable transformation across the global business. \\nAs a result of this work, we have been participating \\nin the SBTi net zero validation process and will be in \\na position to announce near-term and long-term net \\nzero targets alongside our transition plan in 2023. \\nWe do however understand that climate change will \\nnot wait and we must take action now. This was a key \\nmessage at COP27 in Egypt this year. As a result, we \\nhave set a carbon reduction target and made steady \\nprogress in 2022, as per the below summary.\\nTarget To reduce our scope 1, 2 and limited scope 3 emissions by 25% by 2024 (baseline year 2019).\\nProgress 44% reduction in emissions across scope 1, 2 and 3 since 2019. \\n2022 actions In 2022, we did see our carbon emissions increase by 94% YoY which was a direct result of Covid-19 \\nrestrictions being lifted. As we saw offices reopen, business meetings and business travel resume, we \\nhave recorded an increase in emissions YoY. However, the reductions we saw in 2021 were not reflective \\nof business as usual. We remained focused in 2022 on delivering the following operational changes to \\ntransition to net zero: \\n• Increased the amount of clean energy procured to 39% (2021: 38%).\\n• We reduced the use of natural gas across our offices by 42%.\\n• Reduced the emissions of our car fleet by 78%. \\n• Continued to improve our office selection criteria to prioritise green properties.\\n• Delivered 14 environmental awareness events to colleagues alongside weekly sustainability \\nconversations in some locations, to promote sustainable behaviours.\\n• Facilitated over 1,382 hours of volunteering at environmental projects to raise awareness and educate \\nour colleagues. \\n• Completed a single use plastic audit in the USA and began to implement plans to remove single use \\nplastic from the business.\\nThrough climate-related scenario analysis, we identified more opportunities than risks, in particular the \\nopportunities that arise from the role STEM skills will play in decarbonisation. Our scenario analysis highlighted \\na particular opportunity in the clean energy sector which has resulted in SThree setting a target and strategy to \\nmaximise this opportunity. \\nTarget To double the size of our clean energy business by 2024 (baseline year 2019).\\nProgress 88% growth in net fees since 2019.\\n2022 actions In 2022, our clean energy business grew by 29% YoY. To support the realisation of our clean energy target we:\\n• Delivered green careers upskilling events to 86 STEM professionals.\\n• Collaborated with a client to deliver green skills awareness events to 240 high school students.\\n• Partnered with Women of Renewable Industries and Sustainable Energy (WRISE) on partnered events.\\nOur climate targets have been established to mitigate climate risk and maximise climate opportunities. KRI are in \\nplace as measures to monitor climate risks, these KRI are metrics which contribute to our overarching targets. As \\nan example our KRI to reduce the carbon emissions of car fleet is a sub-target and metric within our overarching \\ncarbon reduction target.\\nFurthermore, our focus on ESG matters is reflected through our remuneration policy with the weighting of \\nperformance measures adjusted to accommodate related targets. The resultant breakdown includes a 10% \\nweighting for ESG targets, including climate targets, as outlined in the KPI section of our Annual Report.\\nFurthermore, our focus on ESG matters is reflected through our remuneration policy with the weighting of Annual Report and Accounts 2022  P-77P-76  SThree plc sthree.com'),\n",
       "  0.0),\n",
       " (Document(metadata={'producer': 'Adobe PDF Library 16.0.7', 'creator': 'Adobe InDesign 17.3 (Macintosh)', 'creationdate': '2023-03-02T12:01:58+00:00', 'moddate': '2023-03-03T08:40:21+00:00', 'trapped': '/False', 'source': './data/r2.0/pdfs/67185fca2a09b3c46ee961b2c1ae160dab8b5231.pdf', 'total_pages': 129, 'page': 57, 'page_label': '58', 'id': 57, 'sha1': '67185fca2a09b3c46ee961b2c1ae160dab8b5231'}, page_content='Strategic Report\\nStrategic Report\\n8. Regulatory compliance\\nRisk Description \\nA failure by the organisation to meet its regulatory obligations in respect of its business models could undermine our \\nreputation, might result in legal exposure and regulatory sanctions and could negatively impact our ability to operate. The \\nstaffing and recruitment industry sits against the backdrop of an increasingly stringent and complex regulatory environment. \\nThese regulatory changes bring commercial opportunities for SThree, as companies seek staffing models which remove both \\nthe burden of administration and the risk of regulatory non-compliance through engaging with companies such as SThree. \\nHowever, they also present risk to SThree in circumstances where we fail to manage those opportunities appropriately. \\nFailure to comply leaves SThree open to a range of risks, including fines, penalties, litigation, personal Director liability and \\nloss of licence to operate. Additionally, the reputational impact and loss of stakeholder confidence could undermine SThree’s \\nbusiness in its entirety.\\nMitigations \\n• Regular horizon scanning by Legal function with reporting to regional \\nmanagement boards and Executive Committee.\\n• Regional Legal team involvement in the establishment of new \\nproducts/services and entering new jurisdictions to ensure there is full \\nunderstanding of regulatory compliance required and the processes to \\nsupport the compliance.\\n• Local internal processes designed to ensure regulatory compliance  \\nfor each placement.\\n• Oversight of regulatory compliance risks and controls at Group  \\nRisk Committee.\\n• Regional regulatory compliance training rolled out by  \\nlegal department.\\n• Detailed regulatory risk assessments completed and regularly \\nreviewed for all business models in each country that the Company \\nhas an entity incorporated within, to ensure full understanding and \\nrelevant appropriate controls are in place.\\nChange from 2021\\nStable. We continue to proactively track and \\nmonitor this risk and embed processes to \\naddress it.\\nExecutive Committee sponsor: \\nKate Danson\\nChief Legal Officer\\nLink to Strategic Pillar: \\n1. Our Places, 2. Our Platform\\nPrincipal risk interdependency: \\n2  4  7  10\\n9. Strategic change management\\nRisk Description \\nIf the Company does not effectively manage and implement strategic change, this could result in poorly implemented \\nprojects, wasted resource and/or adverse financial impact and ability to execute strategy, impacting future growth of the \\nGroup. Effective strategic change management is inherently tied into the achievement of our strategy; change management \\nis required for the effective implementation of parts of the strategy that require us to operate differently. Lack of oversight or \\nthe rejection by staff of change, would prevent SThree moving to the next level of revenue growth and profitability.\\nMitigations \\n• Prioritisation of investment decisions, approval of business cases \\nand oversight of the investment portfolio, with strong linkage into \\nthe annual budget cycle.\\n• Project management embedded and a formal governance \\nstructure in place for strategic projects, including independent \\nassurance for key technology-related programmes.\\n• Full Board visibility of the portfolio status, including timelines, \\nproject spend and issues escalation. \\n• A formal digital demand process to coordinate requests that place \\ndemands on our technology change resources. The forum ensures \\ncorrect resource allocation against Company priorities.\\n• Monthly programme steering committees review programme \\nstatus, risks and document decisions.\\n• Recruitment and secondment of skilled expertise to business \\ntransformation programme.\\nChange from 2021\\nDecreased due to enhanced governance rolled \\nout during the year and increased resource and \\ncapability in this area.\\nExecutive Committee sponsor: \\nNick Folkes\\nChief Technology and Information Officer\\nLink to Strategic Pillar: \\n1. Our Places, 2. Our Platform, 3. Our People,  \\n4. Our Position\\nPrincipal risk interdependency: \\n2  5  6  \\n10. Health and safety\\nRisk Description \\nIf an employee suffers injury where SThree has failed to meet its regulatory obligations or duty of care this could lead to an \\nundermining of trust by our employees, candidates and clients, as well as reputational damage and financial loss. Health and \\nsafety (H&S) management regulations contain a general requirement for organisations to monitor and review preventive and \\nprotective measures to protect the health, safety and well-being of our employees. As a responsible employer we strive to \\nensure all our people are safe in their working environment. Our increasing volume and proportion of business in ECM means \\nwe have heightened regulatory obligations towards our candidates, many of whom operate in higher risk environments than \\nour internal workforce.\\nLink to climate risk and sustainability: employees are potentially at risk of exposure to increased climatic natural disasters \\nand to extremes of temperature, where working outdoors, making working conditions higher risk. \\nMitigations \\n• Monthly health and safety administration and communication \\nmeetings to discuss risks and any change in processes.\\n• Annual review and rollout of global H&S policy.\\n• Processes and reporting in place for any accidents or incidents \\ninvolving internal employees and ECM candidates.\\n• Regular horizon scanning of H&S regulations by both Group \\nLegal and H&S Manager to ensure policies and processes are \\nupdated\\xa0accordingly.\\n• Communication with clients to ensure safety of a candidate on a \\nclient site and obligations are understood by both the client and \\ncandidate towards health and safety.\\n• The review of health and safety obligations are a key part of the \\ncontract review process, to ensure any required processes are \\nfollowed and are proportionate to the product being offered to \\nthe\\xa0client.\\n• Dashboard to capture leading and lagging indicators to highlight any \\nincident risks and introduce continual improvement processes.\\n• Insurance policies where required covering the Company and ECM \\ncontractors in the event of an accident.\\nChange from 2021\\nDecreased due to global policy and process \\nimprovements.\\nExecutive Committee sponsor: \\nKate Danson\\nChief Legal Officer\\nLink to Strategic Pillar: \\n2. Our Platform, 3. Our People, 4. Our Position\\nPrincipal risk interdependency: \\n4  5  8\\nRisks continued\\n Annual Report and Accounts 2022  P-113P-112 SThree plc sthree.com'),\n",
       "  0.0),\n",
       " (Document(metadata={'producer': 'Adobe PDF Library 16.0.7', 'creator': 'Adobe InDesign 17.3 (Macintosh)', 'creationdate': '2023-03-02T12:01:58+00:00', 'moddate': '2023-03-03T08:40:21+00:00', 'trapped': '/False', 'source': './data/r2.0/pdfs/67185fca2a09b3c46ee961b2c1ae160dab8b5231.pdf', 'total_pages': 129, 'page': 69, 'page_label': '70', 'id': 69, 'sha1': '67185fca2a09b3c46ee961b2c1ae160dab8b5231'}, page_content='Nomination Committee\\nGovernance\\n“ SThree’s purpose is to bring skilled \\npeople together to build the future. \\nThat future-focus and long-term \\nthinking also applies to how our \\nNomination Committee keeps our \\nBoard’s composition under review  \\nand ensures we have robust \\nsuccession plans in place.”\\nJames Bilefield\\nNomination Committee Chair\\nCommittee meetings held\\n3\\nJames Bilefield (Chair) 3/3\\nBarrie Brien 3/3\\nDenise Collis 3/3\\nElaine O’Donnell 1/1\\nAnne Fahy 0/0\\nAnne Fahy resigned prior to any scheduled Committee meetings  \\nbeing held.  \\nImogen Joss joined the Committee subsequent to year end. \\nThe Committee complies with the requirement to have a majority of \\nindependent Non-Executive Directors (NEDs).\\n Full biographies are available on pages 122-123.\\nDear Shareholder\\nI am pleased to present to you the Nomination \\nCommittee report. The report provides underlying \\ndetail on the Committee and its activities during \\nthe year, in compliance with the UK Corporate \\nGovernance Code (the Code).\\nSThree’s purpose is to bring skilled people together \\nto build the future. That future-focus and long-\\nterm thinking also applies to how our Nomination \\nCommittee keeps our Board’s composition under \\nreview and ensures we have robust succession plans \\nin place, to safeguard the delivery of our strategy and \\nensure the long-term success of the Company.\\nSince my last report we have seen a number of \\nchanges to the composition of the Board. At the \\nstart of the year we announced that Mark Dorman \\nwould be stepping down from the Board and as CEO \\nof the Group on 31 December 2021. Timo Lehne \\nwas appointed interim CEO of the Group and the \\nCommittee commenced a search for a permanent \\nCEO. Having completed an extensive search process, \\nreviewing both internal and external candidates, \\nthe Committee recommended Timo for the role \\nas permanent CEO, with his appointment being \\nconfirmed on 28 April 2022. \\nThe Board understands and fully supports the \\nrecommendations of the Parker Review. However, \\nfollowing the very recent appointments, we plan to \\nallow a period of bedding in and Board stability for \\nour two new Non-Executive Directors and for the \\nBoard overall. We believe that this is also sensible \\nforward planning in terms of board succession and \\nrotation. Therefore we intend to look for an additional \\nNon-Executive Director, preferably from a non-\\nwhite minority ethic background, at some point in \\n2024 in order to meet the Parker Review target by \\nDecember\\xa02024.\\nSummary of Terms of Reference\\nThe Committee’s Terms of Reference are, broadly, to \\nregularly review the structure, size and composition \\n(including the skills, knowledge, experience and \\ndiversity) of the Board, make recommendations with \\nregard to any changes and to review and prepare \\nrelevant job descriptions for new appointees, as \\nwell as ensuring the continuing development of, and \\nadequate pipeline into, the Executive Committee for \\nsuccession and bench strength purposes.\\nSummary of core Committee activities \\ncarried out during the year:\\n• Oversaw the Board and senior management \\nsuccession plans.\\n• Oversaw the composition and effectiveness  \\nof the Board and Committees, with diversity  \\na key\\xa0criteria.\\n• Oversaw the search for a new Chief  \\nExecutive Officer. \\n• Oversaw the search for, and recommended the \\nappointment of, two new independent Non-\\nExecutive Directors, including the Chair of the \\nAudit & Risk Committee.\\nSuccession planning and diversity\\nAs discussed above, Mark Dorman stepped down as \\nCEO in December 2021. The Committee oversaw an \\ninternal and external search for a new CEO, leading to \\nthe appointment of Timo Lehne, first as interim CEO \\nand subsequently as permanent CEO. Following the \\nresignation of Anne Fahy as a Non-Executive Director \\nin April this year the Committee accelerated its search \\nfor new Directors, leading to the appointment of Elaine \\nO’Donnell and Imogen Joss.\\nDenise Collis continues to act as the designated \\nNED responsible for employee engagement and to \\nunderstand and represent the views of employees at \\nBoard level. Denise has attended a number of focus \\ngroups with a wide range of employees during the year, \\ntogether with other Board members. These focus groups \\nhave discussed subjects such as executive remuneration, \\ndiversity and inclusion, and health and wellbeing.\\nThe Committee also periodically reviews Board \\ncomposition to ensure that the Code provisions \\nregarding diversity, over-boarding, Chair tenure and \\nRemuneration Committee Chair experience are all \\ncomplied with. In November 2022 the Committee \\nconsidered Board membership and the need to \\ncontinually refresh the composition of the Board on a \\ngradual basis, taking into account the length of service \\nof current Board members.\\nLast year we reported that the Committee had agreed \\nplans to achieve a Board, by 2024, with a minimum of \\n40% female representation and at least one individual \\nfrom a non-white minority ethnic background. I am \\ndelighted to report that we now have in excess of 40% \\nfemale representation on the Board, in accordance \\nwith the FCA’s Board diversity targets. Denise Collis \\nwho is our Senior Independent Director, is considered \\nto hold a senior Board position. \\nIt remains the Committee’s intention to add one \\nadditional Non-Executive Director, preferably from \\na non-white minority ethnic background, before \\nDecember 2024. The Committee acknowledges the \\nimportance of diversity in its broadest sense in the \\nboardroom. In filling this position, consideration will be \\ngiven to the combination of demographics, experience, \\nskills, race, age, gender, education and professional \\nbackground and other personal objectives needed \\nto support good decision making. The Committee \\nis mindful of the need to devote time to thoroughly \\nembedding each new Non-Executive Director and to \\ncreating a cohesive Board. The timing of onboarding \\nof a new Non-Executive Director will therefore be \\ncarefully assessed. \\nSelection and appointment of a \\nnew Chief Executive Officer\\nFollowing the announcement of the departure \\nof Mark Dorman as Chief Executive Officer, \\nTimo Lehne was, on the recommendation of \\nthe Nomination Committee, appointed as \\nan Executive Director and interim CEO. An \\nextensive and thorough search process then \\ncommenced. Russell Reynolds Associates, a \\nleading executive search firm, was engaged \\nto facilitate the process, which involved a \\ndiverse longlist of potential candidates, drawn \\nfrom a range of backgrounds and including \\nboth internal and external candidates. Russell \\nReynolds Associates has no other connection \\nwith the Company or its individual Directors \\naside from the provision of recruitment services. \\nFollowing interviews with and full evaluation \\nof selected candidates, the Nomination \\nCommittee endorsed the appointment of \\nTimo Lehne as the permanent Chief Executive \\nOfficer. Having previously been SThree’s \\nmost experienced Managing Director from \\nour largest region, Timo had demonstrated \\nstrategic thinking, drive, commerciality and \\npeople-leadership skills both in that role and \\nas Interim CEO and was well placed to lead \\nthe Group. Timo then received a tailored \\ninduction programme, which given his in-\\ndepth knowledge of the Group and the market, \\nconcentrated on the legal framework governing \\nthe duties of a director of a listed company, and \\ncontinuing obligations. \\n Annual Report and Accounts 2022  P-137P-136 SThree plc  sthree.com'),\n",
       "  0.0),\n",
       " (Document(metadata={'producer': 'Adobe PDF Library 16.0.7', 'creator': 'Adobe InDesign 17.3 (Macintosh)', 'creationdate': '2023-03-02T12:01:58+00:00', 'moddate': '2023-03-03T08:40:21+00:00', 'trapped': '/False', 'source': './data/r2.0/pdfs/67185fca2a09b3c46ee961b2c1ae160dab8b5231.pdf', 'total_pages': 129, 'page': 81, 'page_label': '82', 'id': 81, 'sha1': '67185fca2a09b3c46ee961b2c1ae160dab8b5231'}, page_content='Governance\\nService contracts are available for inspection by appointment at 75 King William Street, London EC4N 7BE.\\nThe policy for the remuneration of NEDs is summarised below:\\nElement Purpose and link to strategy Operation Maximum Performance metrics\\nFees Attracts, retains and \\nmotivates high-calibre NEDs \\nto provide experience, \\ncapability and governance in \\nthe interest of shareholders.\\nFees are determined by the \\nBoard as a whole and set by \\nreference to those fees paid \\nin similar companies, related \\nto allocated responsibilities \\nand subject to the aggregate \\nDirectors’ fee limits \\ncontained in the Group’s \\nArticles of Association. \\nFees may be payable in \\ncash or in shares. Out of \\npocket expenses including \\ntravel may be reimbursed \\nby the Group in accordance \\nwith the Group’s expenses \\npolicy (and may settle any \\ntax incurred in relation to \\nthese). NEDs are not entitled \\nto compensation and no fee \\nis payable in respect of the \\nunexpired portion of the term \\nof appointment.\\nThere is no maximum \\nindividual fee limit. The \\noverall fee comprises a \\nbasic fee plus payment for \\nadditional responsibilities \\nsuch as chairing Committees \\nand for interim additional \\nduties. NEDs do not \\nparticipate in the Group’s \\nincentive schemes.\\nNon-Executive Directors \\nare not eligible for any \\nperformance-related \\nremuneration. \\nObligation to perform \\nsatisfactorily and attend \\nand contribute to meetings, \\nassessed via Board \\neffectiveness reviews.\\nSourcing shares for share plans and minority interests \\nShares used to settle vested share awards may include new issue shares, treasury, Employee Benefit Trust (EBT) \\nshares or market-purchased shares. The use of new issue or treasury shares is constrained by dilution limits which \\nare reviewed by the Board annually. In order to comply with investor guidelines, the Board has agreed that certain \\nLTIP awards will be satisfied using market-purchased shares via the EBT, if appropriate.\\nAnnual report on remuneration\\nSection 1 – Total reward for 2022\\n1.1 Directors’ remuneration for 2022 \\n1.2 Annual bonus for 2022 \\n1.3 LTIP awards vested by reference to performance over the three years to 2022 \\n1.4 LTIP awards granted during the year\\n1.1 Directors’ remuneration for 2022 (audited)\\nDirector\\nSalary and \\nfees  \\n(£’000)\\nBenefits1\\n(£’000)\\nPension\\n(£’000)\\nT otal fixed \\npay\\n(£’000)\\nAnnual \\nbonus\\n(£’000)\\nLong-T erm \\nIncentive \\nPlan2\\n(£’000)\\nT otal \\nvariable pay\\n(£’000)\\nT otal \\n(£’000)\\nTimo Lehne4 416.7 13.2 20.8 450.7 411.3 80.8 492.1 942.8\\nAndrew Beach 352.9 16.7 17.6 387.2 348.5 – 348.5 735.7\\nMark Dorman5 42.7 1.7 2.1 46.5 40.6 277.1 317.7 364.2\\nAnne Fahy6 25.7 – – 25.7 – – – 25.7\\nElaine O’Donnell7 10.8 – – 10.8 – – – 10.8\\nDenise Collis 80.0 – – 80.0 – – – 80.0\\nJames Bilefield 170.0 – – 170.0 – – – 170.0\\nBarrie Brien8 59.4 – – 59.4 – – – 59.4\\nAggregate emoluments 1,158.2 31.6 40.5 1,230.3 800.4 357.9 1,158.3 2,388.6\\n2021 \\nDirector\\nSalary and \\nfees  \\n(£’000)\\nBenefits 1 \\n(£’000)\\nPension\\n(£’000)\\nTotal fixed \\npay  \\n(£’000)\\nAnnual \\nbonus \\n(£’000)\\nLong-Term \\nIncentive \\nPlan 3 \\n(£’000)\\nTotal variable \\npay  \\n(£’000)\\nTotal \\n(£’000)\\nMark Dorman 484.0 19.6 24.2 527.8 484.0 368.9 852.9 1,380.7\\nAlex Smith9 223.2 17.8 31.9 272.9 223.2 334.5 557.7 830.6\\nAndrew Beach10 139.3 6.0 5.7 150.9 142.2 – 142.2 293.1\\nAnne Fahy 58.0 – – 58.0 – – – 58.0\\nDenise Collis 70.5 – – 70.5 – – – 70.5\\nJames Bilefield 150.0 – – 150.0 – – – 150.0\\nBarrie Brien 48.0 – – 48.0 – – – 48.0\\nAggregate emoluments 1,173.0 43.4 61.7 1,278.1 849.3 703.4 1,410.6 2,688.8\\n1. Benefits comprise car allowance, medical cover and life/income protection insurance. \\n2. 2022 LTIP awards relate to those granted in early 2020 and due to vest in February 2023 for Timo Lehne and Mark Dorman, based on performance assessed over \\n2022 to 2023, also including the value of any related dividends accrued during the vesting period on vested awards. The value has been calculated using a share price \\nof 372p, being the average closing share price over Q4 of the financial year.\\n3. 2021 LTIP awards relate to those granted in early 2019 and vested in early 2022, based on performance assessed over 2019 to 2021, also including the value of any related \\ndividends accrued during the vesting period on vested awards. The benefit included in the table last year was calculated based on the average of the share price over the \\nclosing three months of the FY21 financial year, at 571 pence. The actual share price on the date of vesting in March 2022 for Mark Dorman was 404p. For Alex Smith the \\nactual share price on date of vesting in February 2022 was 475 pence. This updated share price has been used for the LTIP values and the totals in the table above.\\n4. Timo Lehne was appointed Interim CEO on 1 January 2022; base pay, benefits, pension and bonus are shown from this date. The total value of the 2020-2022 LTIP \\nvesting is included in the table.\\n5. Mark Dorman stepped down as CEO and from the Board on 31 December 2021. Remuneration is shown for the period to this date for salary, benefits, pension and \\nbonus. The full value of the 2020-2022 LTIP award vesting has been included in the table.\\n6. Anne Fahy stepped down as a Non-Executive Director on 19 April 2022.\\n7. Elaine O’Donnell replaced Anne Fahy as a Non-Executive Director and Chair of the Audit & Risk Committee on 1 October 2022. \\n8. Barrie Brien was appointed to the Board in 2017 and acted as interim Chair of the Audit Committee from April to October 2022. \\n9. Alex Smith stepped down from the Board on 15 July 2021 and his base pay, benefits, pension and bonus are shown to this date. He remained actively employed \\nproviding support and ensuring a smooth handover to his successor until 29 October 2021. The total value of the 2019-2021 LTIP vesting is included in the table. There \\nwas a pension overpayment of £799.82 to Alex Smith in 2020, which has been recouped.\\n10. Andrew Beach joined the Group on 5 July 2021 and was appointed to the Board on 15 July 2021. His remuneration as stated in the table is from the date of his \\nappointment to the Board.\\nRemuneration policy continued\\n Annual Report and Accounts 2022  P-161P-160 SThree plc sthree.com'),\n",
       "  0.0),\n",
       " (Document(metadata={'producer': 'Adobe PDF Library 16.0.7', 'creator': 'Adobe InDesign 17.3 (Macintosh)', 'creationdate': '2023-03-02T12:01:58+00:00', 'moddate': '2023-03-03T08:40:21+00:00', 'trapped': '/False', 'source': './data/r2.0/pdfs/67185fca2a09b3c46ee961b2c1ae160dab8b5231.pdf', 'total_pages': 129, 'page': 83, 'page_label': '84', 'id': 83, 'sha1': '67185fca2a09b3c46ee961b2c1ae160dab8b5231'}, page_content='Governance\\nThe table below sets out the annual bonus outcome for the Executive Directors. In line with the arrangements \\ndisclosed in last year’s report Mark Dorman will receive a pro-rated bonus for the year. In determining the final \\noutcome, the Committee did not exercise any discretion. One third of the bonus payable will be paid in shares, \\nwhich must be held for a period of two years.\\nFinancial element Shared strategic element Personal element\\n% \\nachievement\\nPayment \\nunder financial \\nelement\\n(£)\\n% \\nachievement\\nPayment \\nunder shared \\nstrategic \\nelement \\n(£)\\n% \\nachievement\\nPayment \\nunder personal \\nelement \\n(£)\\nTotal bonus \\npayable \\n(£)\\nTimo Lehne 87.5% 348,244 44.4% 27,595 95% 35,446 411,2861\\nMark Dorman 87.5% 35,829 44.4% 2,839 50% 1,919 40,5882\\nAndrew Beach 87.5% 296,413 44.4% 23,488 90% 28,583 348,484\\n1. The bonus noted for Timo Lehne is pro-rata for his period as CEO on the Board from 1 January 2022. \\n2. The bonus noted for Mark Dorman is pro-rata for his period as CEO on the Board to 31 December 2021. \\n1.3 2020-2022 LTIP award vested by reference to performance over the three years to 2022 \\n(audited)\\nEarnings Per Share (EPS) for 50% of the award:\\nEPS Pay-out range\\nPay-out range \\n(threshold to \\nmaximum)\\nActual \\nperformance Vesting level\\nVesting % \\nof total LTIP \\naward\\nBetween 38.6p and 46.0p per share 25% – 100% 41.0p 46.70% 23.35%\\n   \\nTotal Shareholder Return (TSR) for 30% of the award:\\nTSR – Rank of the Company compared to the peer group pay-out range\\n Pay-out range \\n(threshold to \\nmaximum)\\nActual \\nperformance Vesting level\\nVesting % \\nof total LTIP \\naward\\nTSR performance between the median (50th percentile and upper \\nquartile (75th percentile) 25% – 100%\\n72nd \\npercentile  91.60%  27.48%\\n   \\nStrategic objectives for 20% of the award\\nMeasure Target\\nActual \\nperformance Vesting level\\nVesting % \\nof total LTIP \\naward\\nOperating profit conversion ratio Financial operating profit conversion ratio of \\nbetween 18.5% and 22% in 2022\\n18.0% 0.00% 0.00%\\nNumber of shares granted vs vested vs lapsed based on assessment versus targets for 2020-2022 \\nLTIP award granted in 2020\\nExecutive Director\\nNumber \\nof shares \\ngranted\\nNumber  \\nof shares \\nvested\\nNumber  \\nof shares \\nlapsed\\nDividend \\nequivalent \\nadditional \\nshares\\nValue of \\nvested \\nshares based \\non grant \\nprice 1 \\n(£)\\nValue of \\nvested shares \\nattributable \\nto share \\nprice growth 2 \\n(£)\\nDividend \\nequivalent \\nadditional \\nshares  \\n(£)\\nTotal  \\n£’0002\\nTimo Lehne, CEO 40,482 20,577 19,905 1,131 77,164 n/a 4,207 81,371\\nMark Dorman, former CEO3 138,930 70,618 68,312 3,881 264,818 n/a 14,439 279,257\\n1. Based on share price of 375 pence.\\n2. Based on Q4 average share price for 2022 of 372 pence.\\n3. Mark Dorman’s award was reduced from 193,562 on a pro-rata basis to 31 March 2022.\\nAnnual report on remuneration continued\\n1.4 LTIP awards granted during 2022\\nType Date of grant\\nNumber of \\nshares\\nFace value of \\naward 1\\n% of award \\nreceivable at \\nthreshold Performance period\\nTimo Lehne Conditional 23-Feb-22 133,630 £600,000 25% 1 December 2021 to  \\n30 November 2024\\nConditional 26-Jul-222 18,945 £74,739 25% 1 December 2021 to  \\n30 November 2024\\nAndrew Beach Conditional 23-Feb-22 117,886 £529,310 25% 1 December 2021 to  \\n30 November 2024\\n1. Based on share price at date of grant of 449 pence for February grant and 395 pence for July grant.\\n2. Upon his appointment as permanent CEO, Timo Lehne’s salary increased from £400,000 to £483,900, this additional award represents 150% of the salary increase, \\npro-rated for the proportion of the financial year left to run after appointment as permanent Chief Executive Officer.\\nThe performance conditions applying to this award are set out on page 155.\\nSection 2 – How we will apply our remuneration policy in 2023\\n2.1 Base salary \\n2.2 Benefits and pension \\n2.3 2023 annual bonus including financial, shared and personal measures \\n2.4 2023 Long-Term Incentive Plan awards \\n2.5 Non-Executive Directors (NEDs) \\n2.6 Payments to past Directors \\n2.1 Base salary\\nThe table below illustrates the most recent base salary review (effective for 2023). The average budgeted salary \\nincrease for employees is 5.0%.\\nExecutive Director\\nBase salary  \\n2022 \\n(£’000)\\nIncrease  \\n(from 1 December 2022)\\nBase salary  \\n2023 \\n(£’000)\\nTimo Lehne, CEO 483.9 3.5% 500.8\\nAndrew Beach, CFO 352.8 3.5% 365.2\\n2.2 Benefits and pension\\nThere are no changes to benefits. The CEO and CFO receive a pension contribution of 5% of salary in line with the \\nrate applying to the majority of the UK workforce.\\n2.3 2023 annual bonus including financial, shared and personal measures\\nThe maximum annual bonus remains capped at 120% of base salary. One third of bonus is deferred in shares for \\ntwo years. The bonus metrics and weightings for the 2023 annual bonus scheme are summarised in the table \\nbelow. As the target ranges for each metric are considered to be commercially sensitive, they will be disclosed \\nretrospectively in next year’s Directors’ remuneration report.\\nWe have replaced our Group cashflow measure as it is counter to our working capital cycle of growing contractors, \\nwith Days Sales Outstanding, which is a more appropriate measure and is more familiar to employees and can \\ntherefore be rolled out and communicated more effectively.\\n Annual Report and Accounts 2022  P-165P-164 SThree plc sthree.com'),\n",
       "  0.0),\n",
       " (Document(metadata={'producer': 'Adobe PDF Library 16.0.7', 'creator': 'Adobe InDesign 17.3 (Macintosh)', 'creationdate': '2023-03-02T12:01:58+00:00', 'moddate': '2023-03-03T08:40:21+00:00', 'trapped': '/False', 'source': './data/r2.0/pdfs/67185fca2a09b3c46ee961b2c1ae160dab8b5231.pdf', 'total_pages': 129, 'page': 85, 'page_label': '86', 'id': 85, 'sha1': '67185fca2a09b3c46ee961b2c1ae160dab8b5231'}, page_content='Governance\\nThe fees for the Chair and NEDs are as follows:\\nRole\\n2022 annual \\nfee  \\n(£’000)\\n2023 annual \\nfee  \\n(£’000)\\nChair 170 176\\nNED base fee (x 3 in 2022 and x 4 in 2023)1 55 57\\nCommittee Chair (Audit and Remuneration) 10 10\\nSID 10 10\\nEmployee engagement NED 5 5\\nT otal (Articles of Association limit is £500k per annum) 370 439\\n1. Imogen Joss joined as a Non-Executive Director on 1 December 2022. \\n2.6 Payments to past Directors (audited)\\nMark Dorman, former CEO\\nMark stepped down from the Board on 31 December 2021, and remained actively employed to 31 March 2022, \\nduring which time he assisted in a handover and smooth transition. He was then placed on garden leave for the \\nremainder of his notice period. The following arrangements apply to Mark’s remuneration from the date he stepped \\ndown from the Board until the end of his employment period.\\n• He continued to receive his salary, pension allowance, and other contractual benefits until 12 December 2022, \\nsubject to him not taking up alternative employment (excluding a single NED role). To 30 November 2022 \\nthis amounted to £443,690 in relation to base salary, £22,185 in relation to pension and £17,841 in relation \\nto\\xa0benefits.\\n• He was eligible to receive a bonus for the financial year ended 30 November 2022 based on his period of \\nactive employment. His bonus from stepping down from the Board to the end of active employment equates to \\n£112,939 for 2022, further details on performance are set out in this report. One-third of his bonus for 2022 will \\nbe paid in shares and held for two years.\\n• He retained his FY2020-2022 LTIP award reduced pro rata for his period of active employment. As set out in \\nthis report the award will vest in February 2023 at 50.8% of maximum which equates to 70,618 shares worth \\n£277,138 including dividend equivalents. A two-year post-vesting holding period applies to these shares. \\n \\nAlex Smith, former CFO\\nAlex stepped down from the Board on 15 July 2021; the following arrangements applied to Alex’s remuneration until \\n16 April 2022.\\n• He continued to receive his salary, pension allowance, and other contractual benefits subject to him not taking \\nup alternative employment (excluding a single NED role). For 2022, this amounted to £135,290 in relation to \\nbase salary, £19,356 in relation to pension and £12,919 in relation to benefits.\\n• He retained his FY2020-2022 LTIP award, reduced pro rata to his termination date. As set out in this report \\nthe award will vest in February 2023 at 50.8% of maximum which equates to 53,327 shares worth £209,279 \\nincluding dividend equivalents. A two-year post-vesting holding period applies to these shares. \\n• An estimate of the value of Alex’s FY2019-2021 LTIP award vesting was included in last year’s report; based on \\nthe actual share price on vesting the value of the award was £334,531.\\nAnnual report on remuneration continued\\nSection 3 – Directors’ interests in shares and broader context for Directors’ pay\\n3.1 Outstanding share awards held by Directors under LTIP, and SAYE \\n3.2 Statement of Directors’ shareholdings \\n3.3 Total Shareholder Return (TSR) performance of SThree over the last ten-year period \\n3.4 Historical levels of CEO remuneration and incentive plan pay-outs \\n3.5 Year-on-year percentage change in CEO remuneration compared to employees \\n3.6 Comparison of CEO remuneration to workforce remuneration by quartiles \\n3.7 Relative importance of spend on all employees’ pay compared to dividend payments\\n3.1 Outstanding share awards held by Directors under LTIP, and SAYE \\nAwards outstanding (including those granted in the year), comprising LTIP, and SAYE (audited)\\nExecutive Directors’ awards outstanding under the LTIP are set out in the table below. Awards are currently \\nstructured as conditional awards of shares, with no exercise price.\\nExecutive Director\\nType of \\naward\\nDates of LTIP \\ngrant/award\\nMarket price \\nat grant/award \\n(pence)\\nShares originally \\nawarded\\nFace value \\n(£) Vesting date\\nRemaining \\nunexercised at \\n30/11/2022 (incl. \\nrolled-up dividend \\nshares)\\nMark Dorman LTIP 05/02/2020 375 193,562 725,857.50 05/02/2023 138,930\\nLTIP 16/03/2021 362 200,563 726,038.06 16/03/2024 69,839\\nAndrew Beach LTIP 19/07/2021 458 57,377 262,786.66 19/07/2024 57,377\\nLTIP 23/02/2022 449 117,886 529,308.14 23/02/2025 117,886\\nSAYE 09/03/2022 380 4,740 18,012.00 01/05/2025 4,740\\nTimo Lehne LTIP 05/02/2020 375 40,482 151,807.50 05/02/2023 40,482\\nLTIP 16/03/2021 362 68,508 247,998.96 16/03/2024 68,508\\nLTIP 23/02/2022 449 133,630 599,998.70 23/02/2025 133,630\\nLTIP 26/07/2022 395 18,945 74,832.75 26/07/2025 18,945\\n3.2 Statement of Directors’ shareholdings (audited)\\nUnder the remuneration policy Executive Directors must build and maintain a level of shares equivalent to at \\nleast 200% of base salary. Directors’ interests in the ordinary share capital of the Company as at the year end, are \\nshown in the table below, including the interests of connected persons and any changes since the start of the year. \\nThere have been no changes since the year end and no Director had any other interest in the share capital of the \\nCompany or its subsidiaries, or exercised any option during the year, other than as disclosed.\\n Annual Report and Accounts 2022  P-169P-168 SThree plc sthree.com'),\n",
       "  0.0),\n",
       " (Document(metadata={'producer': 'Adobe PDF Library 16.0.7', 'creator': 'Adobe InDesign 17.3 (Macintosh)', 'creationdate': '2023-03-02T12:01:58+00:00', 'moddate': '2023-03-03T08:40:21+00:00', 'trapped': '/False', 'source': './data/r2.0/pdfs/67185fca2a09b3c46ee961b2c1ae160dab8b5231.pdf', 'total_pages': 129, 'page': 86, 'page_label': '87', 'id': 86, 'sha1': '67185fca2a09b3c46ee961b2c1ae160dab8b5231'}, page_content='Governance\\n SThree         FTSE Small Cap         FTSE 350 Support Services\\nTotal Shareholder Return\\nExecutive Director\\nOrdinary \\nshares  \\nheld at  \\n1 December \\n2021\\nOrdinary \\nshares \\nacquired\\nOrdinary \\nshares \\ndisposed\\nOrdinary \\nshares held at  \\n30 November \\n2022\\nIndirect \\ninterest w/ \\nperf con (i.e. \\nLTIP/other \\nawards)\\nIndirect \\ninterest w/o \\nperf con \\n(i.e. SAYE, \\ndeferred \\nbonus, SIP)\\nShareholding \\nrequirement \\n(% of salary)\\nShareholding \\n(% of 2022 \\nsalary)\\nTimo Lehne – 121,706 – 121,706 261,565 – 200% 102%\\nMark Dorman 4,150 45,537 – 49,687 208,769 20,653 200% 59%\\nAndrew Beach 10,005 17,714 – 27,719 175,263 11,520 200% 40%\\nJames Bilefield 10,000 5,000 – 15,000 – – – –\\nAnne Fahy 4,000 – – 4,000 – – – –\\nElaine O’Donnell – – – – – – – –\\nImogen Joss – – – – – – – –\\nDenise Collis 5,000 – – 5,000 – – – –\\nBarrie Brien – 1,594 – 1,594 – – – –\\nThe value has been calculated using a share price of 405.5 pence, being the share price on the last day of the financial year.\\nShare interests shown for FY20-22, FY21-23, FY22-24 LTIP, Share Incentive Plan (SIP) and Save As You Earn (SAYE). \\nThere have been no changes to the share interests of Directors between the end of FY22 and 27 January 2023, \\nwhen this report was signed off.\\n3.3 Total Shareholder Return (TSR) performance of SThree over the last ten-year period\\nThe following graph shows the TSR of the Company, compared to the FTSE 350 Support Services and FTSE Small \\nCap indices. These are considered the most illustrative comparators for investors as the Company is or has been a \\nconstituent in the past of these indices. \\n \\n300.00\\n250.00\\n200.00\\n150.00\\n100.00\\n50.00\\n0.00\\n2012 2013 2014 2015 2016 2017 2018 2019 2020 2021 2022\\nAnnual report on remuneration continued\\n3.4 Historical levels of CEO remuneration and incentive plan pay-outs\\nThe table below shows historical levels of CEO total remuneration over a ten-year period, as well as annual bonus \\nand LTIP vesting percentages over the same period.\\nYear CEO\\nCEO total \\nremuneration \\n(£’000)\\nAnnual \\nbonus (% of \\nmaximum)\\nLTIP awards \\nvesting (% of \\nmaximum)\\n2022 Timo Lehne 1 942.8 82.7% 50.8%\\n2022 Mark Dorman 2 364.2 79.3% 50.8%\\n2021 Mark Dorman 1,533.1 83.3% 34.4%\\n2020 Mark Dorman 500.2 00.0% 0% 3\\n2019 Mark Dorman (appointed 18 March 2019) 629.1 55.7% 0% 4\\n2019 Gary Elden (stepped down 18 March 2019) 832.1 53.2% 63.5%\\n2018 Gary Elden 1,064.0 73.4% 18.8%\\n2017 Gary Elden 1,228.9 76.2% 41.0%\\n2016 Gary Elden 1,058.5 56.4% 50.0%\\n2015 Gary Elden 1,284.9 92.8% 50.0%\\n2014 Gary Elden 852.2 54.6% 18.5%\\n2013 Gary Elden 752.8 44.3% 25.5%\\n1. Timo Lehne was appointed as interim CEO on 1 January 2022 and permanent CEO from 28 April 2022.\\n2. Mark Dorman stepped down from the CEO role on 31 December 2021.\\n3. Mark Dorman was not eligible to receive the 2018-2020 LTIP award for which the performance period ended in 2020; the LTIP vested at 19.3% of maximum  \\nfor participants.\\n4. Mark Dorman was not eligible to receive the 2017-2019 LTIP award for which the performance period ended in 2019; the LTIP vested at 71.8% of maximum  \\nfor participants.\\n3.5 Year-on-year percentage change in Directors’ remuneration compared to employees\\nThe table below shows the percentage increase for each element of remuneration between FY22 and FY19 for \\nDirectors who served during each year, compared with all Group employees.\\nFY22 vs FY21 FY21 vs FY20 FY20 vs FY19\\nSalary/fees Benefits\\nAnnual \\nbonus Salary/fees Benefits\\nAnnual \\nbonus Salary/fees Benefits\\nAnnual \\nbonus\\nTimo Lehne n/a n/a n/a – – – – – –\\nMark Dorman n/a n/a n/a 7.1% 4.1% 100% (4.9%) (2.5%) (100.0%)\\nAndrew Beach n/a n/a n/a n/a n/a n/a – – –\\nJames Bilefield 13.3% – – 7.1% – – (6.7%) – –\\nAnne Fahy n/a – – 7.2% – – (6.7%) – –\\nElaine O’Donnell n/a – – – – – – – –\\nDenise Collis 13.5% – – 7.1% – – (6.7%) – –\\nBarrie Brien 23.8% – – 7.1% – – (6.7%) – –\\nAverage for all employees 13.8% 20.4% (15.5%) 8.8% (5.0%) 77.3% (1.5%) (5.7%) (3.0%)\\nNotes:\\nn/a: comparisons for the following executives cannot be provided as they joined or left part way through the year.\\n2022 vs 2021: Timo Lehne was appointed CEO in January 2022. Mark Dorman stepped down from the Board on 31 December 2021. Andrew Beach joined the Board on \\n15 July 2021. Alex Smith stepped down from the Board on 15 July 2021. Anne Fahy stepped down as Non-Executive Director on 19 April 2022. Elaine O’Donnell replaced \\nAnne Fahy as Non-Executive Director and Chair of the Audit & Risk Committee on 1 October 2022.\\n Annual Report and Accounts 2022  P-171P-170 SThree plc sthree.com'),\n",
       "  0.0),\n",
       " (Document(metadata={'producer': 'Adobe PDF Library 16.0.7', 'creator': 'Adobe InDesign 17.3 (Macintosh)', 'creationdate': '2023-03-02T12:01:58+00:00', 'moddate': '2023-03-03T08:40:21+00:00', 'trapped': '/False', 'source': './data/r2.0/pdfs/67185fca2a09b3c46ee961b2c1ae160dab8b5231.pdf', 'total_pages': 129, 'page': 87, 'page_label': '88', 'id': 87, 'sha1': '67185fca2a09b3c46ee961b2c1ae160dab8b5231'}, page_content='Governance\\n3.6 Comparison of CEO remuneration to workforce remuneration by quartiles\\nThe Committee has decided to use Option B in the relevant regulations to calculate the Chief Executive Officer \\npay ratio, using 2022 gender pay gap information to identify the three UK employees as the best equivalents of \\nP25, P50 and P75, calculated based on full-time equivalent base pay data as at 5 April 2022. This methodology \\nwas selected as the Committee believes this provides a more accurate and consistent calculation based on the \\ninformation available at this time. \\nThe following table sets out the CEO pay ratio at the median, 25th and 75th percentile.\\nFinancial year Method\\n25th percentile  \\npay ratio Median\\n75th percentile  \\npay ratio\\n2022 Option B 40:1 22:1 14:1\\n2021 Option B 59:1 35:1 23:1\\n2020 Option B 22:1 19:1 10:1\\n2019 Option B 34:1 26:1 16:1\\n2018 Option B 39:1 24:1 20:1\\nThe three employees used for the 2022 ratio are shown below:\\nEmployees’  \\nsalary  \\n(£)\\nEmployees’  \\ntotal remuneration  \\n(£)\\n% change  \\n2022 to 2021\\nQ 25 pay 23,000 23,281 -10.9%\\nQ 50 pay 37,544 42,104 -2.9%\\nQ 75 pay 62,244 68,558 2.2%\\nRatios have decreased year on year due to a number of factors; CEO pay has decreased largely driven by a \\nreduction in bonus paid and the long term incentive vesting being lower year on year. The decrease at the 25th and \\nmedian employee is due to the roles being more junior compared to prior year. \\nThe Committee is satisfied the median pay ratio is consistent with the pay, reward and progression policies for \\nthe Company’s employees. Workforce pay and reward policies across the Group are actively considered by the \\nCommittee when determining the Executive Director Remuneration Policy and its implementation each year to \\nensure that our approach to reward across the Group is aligned with our values.\\n3.7 Relative importance of spend on all employees’ pay compared to dividend payments\\nThe table below sets out the change to the total employee remuneration costs compared with the change in \\ndividends for 2022 compared to 2021. All figures are taken from the relevant sections of the Annual Report.\\nItem 2022 2021 Change\\nDividends £14.65m £10.6m 38.2%\\nRemuneration paid to employees (including Directors) £266.01m £225.9m 17.8%\\nAnnual report on remuneration  continued\\nSection 4 – Governance\\n4.1 The Committee and its advisers \\n4.2 Statements of voting at most recent AGMs \\n4.3 Approval\\n4.1 The Committee and its advisers\\nThe Committee’s Terms of Reference (available at sthree.com) are reviewed periodically to align as closely as \\npossible with the UK Corporate Governance Code (the Code) and CGI best practice guidelines. During the year, \\nthe Committee comprised only independent NEDs, being Denise Collis (Chair), James Bilefield, Barrie Brien, \\nAnne Fahy and Elaine O’Donnell. The Committee therefore meets Code requirements to comprise at least three \\nindependent NEDs.\\nThe Chief Executive Officer, Chief Financial Officer and the most senior HR representative attend meetings by \\ninvitation, excluding matters related to their own remuneration. The Committee met four times during the year for \\nroutine business, in addition to unscheduled meetings for specific items and no member of the Committee has any \\npersonal financial interest (other than as a shareholder) in the matters decided.\\nThe Committee appointed Korn Ferry as its independent remuneration adviser in 2016, following a \\ncomprehensive\\xa0review.\\nFees paid to Korn Ferry for advice in relation to remuneration matters during the year were £68,594.89 (2021: \\n£63,559), both excluding VAT. A representative from Korn Ferry attends each Remuneration Committee meeting \\nand provides input into the papers. Korn Ferry are members of the Remuneration Consultants Group (RCG) and \\ncomply with the RCG Code of Conduct. Korn Ferry has no other relationship with the Company and the Committee \\nis satisfied that their advice was and is objective and independent.\\n4.2 Statements of voting at most recent AGMs\\nAt the AGMs held in April 2020 and April 2022, the following votes were cast in relation to the binding vote on the \\nremuneration policy and the advisory vote on the Annual report on remuneration.\\nResolution For % Against % Withheld\\nDirectors’ remuneration policy (2020 AGM)* 94,753,657 95.46 4,505,467 4.54 50,380\\nDirectors’ remuneration report (2022 AGM)* 55,874,397 54.42 46,806,243 45.58 1,986,904\\n* Votes withheld are not counted in the % shown above.\\nAt the 2022 AGM, the Directors’ remuneration report resolution received 45.6% votes against. This vote against \\nwas as a result of ‘notice of notice’ scenario in respect of the departing CFO. The explanation was detailed in the \\nChair’s statement and remuneration report last year. Shareholders were consulted prior to the AGM on this issue. \\nFollowing the AGM our Remuneration Committee Chair engaged with significant shareholders to confirm steps \\nthat have been put in place to stop the risk of a ‘Notice of Notice’ situation arising again. We have also made the \\npolicy explicit that a notice period starts on the date of announcement of a Director stepping down.\\n4.3 Approval\\nThis report was approved by the Board of Directors on the date shown below and signed on its behalf by:\\nDenise Collis\\nChair of the Remuneration Committee \\n27 January 2023\\n Annual Report and Accounts 2022  P-173P-172  SThree plc sthree.com'),\n",
       "  0.0),\n",
       " (Document(metadata={'producer': 'Adobe PDF Library 16.0.7', 'creator': 'Adobe InDesign 17.3 (Macintosh)', 'creationdate': '2023-03-02T12:01:58+00:00', 'moddate': '2023-03-03T08:40:21+00:00', 'trapped': '/False', 'source': './data/r2.0/pdfs/67185fca2a09b3c46ee961b2c1ae160dab8b5231.pdf', 'total_pages': 129, 'page': 96, 'page_label': '97', 'id': 96, 'sha1': '67185fca2a09b3c46ee961b2c1ae160dab8b5231'}, page_content='Responsibilities for the financial statements and the audit\\nResponsibilities of the directors for the financial statements\\nAs explained more fully in the Statement of Directors’ responsibilities in respect of financial statements, the \\ndirectors are responsible for the preparation of the financial statements in accordance with the applicable \\nframework and for being satisfied that they give a true and fair view. The directors are also responsible for such \\ninternal control as they determine is necessary to enable the preparation of financial statements that are free from \\nmaterial misstatement, whether due to fraud or error.\\nIn preparing the financial statements, the directors are responsible for assessing the group’s and the company’s \\nability to continue as a going concern, disclosing, as applicable, matters related to going concern and using the \\ngoing concern basis of accounting unless the directors either intend to liquidate the group or the company or to \\ncease operations, or have no realistic alternative but to do so.\\nAuditors’ responsibilities for the audit of the financial statements\\nOur objectives are to obtain reasonable assurance about whether the financial statements as a whole are free from \\nmaterial misstatement, whether due to fraud or error, and to issue an auditors’ report that includes our opinion. \\nReasonable assurance is a high level of assurance, but is not a guarantee that an audit conducted in accordance \\nwith ISAs (UK) will always detect a material misstatement when it exists. Misstatements can arise from fraud \\nor error and are considered material if, individually or in the aggregate, they could reasonably be expected to \\ninfluence the economic decisions of users taken on the basis of these financial statements.\\nIrregularities, including fraud, are instances of non-compliance with laws and regulations. We design procedures in \\nline with our responsibilities, outlined above, to detect material misstatements in respect of irregularities, including \\nfraud. The extent to which our procedures are capable of detecting irregularities, including fraud, is detailed below.\\nBased on our understanding of the group and industry, we identified that the principal risks of non-compliance \\nwith laws and regulations related to employment laws and indirect taxes impacting the different territories in which \\nthe group operates, and we considered the extent to which non-compliance might have a material effect on the \\nfinancial statements. We also considered those laws and regulations that have a direct impact on the financial \\nstatements such as the Companies Act 2006 and Listing Rules. We evaluated management’s incentives and \\nopportunities for fraudulent manipulation of the financial statements (including the risk of override of controls), \\nand determined that the principal risks were related to posting inappropriate journal entries to achieve desired \\nfinancial results and management bias in accounting estimates. Audit procedures performed by the engagement \\nteam\\xa0included:\\n• enquiries with management, internal audit, the Audit and Risk committee and the group’s internal legal \\ncounsel, including consideration of known or suspected instances of fraud and non-compliance with laws \\nand regulations and performed testing where a provision has been made in respect of these by examining \\nsupporting calculations;\\n• understanding and evaluating the design and implementation of management’s controls designed to prevent \\nand detect irregularities;\\n• challenging assumptions and judgements made by management in their significant accounting estimates, in \\nparticular in relation to accrued income cut-off, assessment of impairment for investments in subsidiaries; and\\n• identifying and testing journal entries, in particular any journal entries posted with unusual account \\ncombinations and postings by unusual users.\\nThere are inherent limitations in the audit procedures described above. We are less likely to become aware of \\ninstances of non-compliance with laws and regulations that are not closely related to events and transactions \\nreflected in the financial statements. Also, the risk of not detecting a material misstatement due to fraud is higher \\nthan the risk of not detecting one resulting from error, as fraud may involve deliberate concealment by, for \\nexample, forgery or intentional misrepresentations, or through collusion.\\nOur audit testing might include testing complete populations of certain transactions and balances, possibly using \\ndata auditing techniques. However, it typically involves selecting a limited number of items for testing, rather than \\ntesting complete populations. We will often seek to target particular items for testing based on their size or risk \\ncharacteristics. In other cases, we will use audit sampling to enable us to draw a conclusion about the population \\nfrom which the sample is selected.\\nA further description of our responsibilities for the audit of the financial statements is located on the FRC’s website \\nat: www.frc.org.uk/auditorsresponsibilities. This description forms part of our auditors’ report.\\nUse of this report\\nThis report, including the opinions, has been prepared for and only for the company’s members as a body in \\naccordance with Chapter 3 of Part 16 of the Companies Act 2006 and for no other purpose. We do not, in giving \\nthese opinions, accept or assume responsibility for any other purpose or to any other person to whom this report is \\nshown or into whose hands it may come save where expressly agreed by our prior consent in writing.\\nOther required reporting\\nCompanies Act 2006 exception reporting\\nUnder the Companies Act 2006 we are required to report to you if, in our opinion:\\n• we have not obtained all the information and explanations we require for our audit; or\\n• adequate accounting records have not been kept by the company, or returns adequate for our audit have not \\nbeen received from branches not visited by us; or\\n• certain disclosures of directors’ remuneration specified by law are not made; or\\n• the company financial statements and the part of the Directors’ remuneration report to be audited are not in \\nagreement with the accounting records and returns.\\nWe have no exceptions to report arising from this responsibility.\\nAppointment\\nFollowing the recommendation of the Audit and Risk Committee, we were appointed by the members in 1999 to \\naudit the financial statements for the year ended 30 November 1999 and subsequent financial periods. The period \\nof total uninterrupted engagement is 24 years, covering the years ended 30 November 1999 to 30 November 2022.\\nOther matter\\nIn due course, as required by the Financial Conduct Authority Disclosure Guidance and Transparency Rule 4.1.14R, \\nthese financial statements will form part of the ESEF-prepared annual financial report filed on the National Storage \\nMechanism of the Financial Conduct Authority in accordance with the ESEF Regulatory Technical Standard (‘ESEF \\nRTS’). This auditors’ report provides no assurance over whether the annual financial report will be prepared using \\nthe single electronic format specified in the ESEF RTS.\\nKenneth Wilson (Senior Statutory Auditor)\\nfor and on behalf of PricewaterhouseCoopers LLP\\nChartered Accountants and Statutory Auditors \\nGlasgow\\n27 January 2023\\nFinancial Statements\\nIndependent auditors’ report \\nto the members of SThree plc continued\\n Annual Report and Accounts 2022  P–191P–190 SThree plc sthree.com'),\n",
       "  0.0),\n",
       " (Document(metadata={'producer': 'Adobe PDF Library 16.0.7', 'creator': 'Adobe InDesign 17.3 (Macintosh)', 'creationdate': '2023-03-02T12:01:58+00:00', 'moddate': '2023-03-03T08:40:21+00:00', 'trapped': '/False', 'source': './data/r2.0/pdfs/67185fca2a09b3c46ee961b2c1ae160dab8b5231.pdf', 'total_pages': 129, 'page': 97, 'page_label': '98', 'id': 97, 'sha1': '67185fca2a09b3c46ee961b2c1ae160dab8b5231'}, page_content=\"Financial Statements\\nConsolidated Income Statement\\nfor the year ended 30 November 2022\\n£'000  Note 2022 2021\\nProfit for the year 54,202 41,982\\nOther comprehensive income/(loss): \\xa0\\nItems that may be subsequently reclassified to profit or loss: \\xa0\\nExchange differences on retranslation of foreign continuing operations \\xa0 7,096 (2,694)\\nItems that will not be subsequently reclassified to profit or loss: \\xa0\\nNet loss on equity instruments at FVOCI 12 (1) –\\nOther comprehensive income/(loss) for the year (net of tax) \\xa0 7,095 (2,694)\\nTotal comprehensive income for the year attributable to owners of the Company \\xa0 61,297 39,288\\nTotal comprehensive income/(loss) for the year attributable to owners of the Company \\narises from: \\xa0\\nContinuing operations 61,297 39,557\\nDiscontinued operations 7 – (269)\\n\\xa0 \\xa0 61,297 39,288\\nThe accompanying notes form an integral part of this Consolidated Statement of Comprehensive Income.\\nSThree plc (the Company) has elected to take the exemption under Section 408 of the Companies Act 2006 not to \\npresent an income statement and statement of comprehensive income for the parent Company.\\nConsolidated Statement of Comprehensive Income \\nfor the year ended 30 November 2022\\n\\xa0 2022 2021\\n£'000  Note  T otal \\n Before \\nexceptional \\nitems \\n Exceptional \\nitems  Total \\nContinuing operations \\xa0\\nRevenue 2 1,639,446 1,330,726 – 1,330,726\\nCost of sales (1,208,830) (975,013) – (975,013)\\nNet fees 2 430,616 355,713 – 355,713\\nAdministrative (expenses)/income 3 (349,301) (292,325) 184 (292,141)\\nImpairment losses on financial assets 3 (3,763) (2,579) – (2,579)\\nOperating profit 77,552 60,809 184 60,993\\nFinance income 5 141 34 – 34\\nFinance costs 5 (667) (869) – (869)\\nProfit before income tax 77,026 59,974 184 60,158\\nIncome tax expense 6 (22,824) (17,872) (35) (17,907)\\nProfit for the year from continuing operations \\xa0 54,202 42,102 149 42,251\\nDiscontinued operations \\xa0\\nLoss after tax for the year from discontinued operations 7 – (269) – (269)\\nProfit for the year attributable to owners of the Company 54,202 41,833 149 41,982\\nEarnings per share attributable to shareholders \\npence \\xa0 \\xa0 \\xa0 \\xa0 \\xa0\\nTotal Group \\xa0\\nBasic 8 41.0 31.6 0.1 31.7\\nDiluted 8 39.9 30.6 0.1 30.7\\nContinuing operations \\xa0\\nBasic 8 41.0 31.8 0.1 31.9\\nDiluted 8 39.9 30.8 0.1 30.9\\nThe accompanying notes form an integral part of this Consolidated Income Statement.\\n Annual Report and Accounts 2022  P-193P-192  SThree plc sthree.com\"),\n",
       "  0.0),\n",
       " (Document(metadata={'producer': 'Adobe PDF Library 16.0.7', 'creator': 'Adobe InDesign 17.3 (Macintosh)', 'creationdate': '2023-03-02T12:01:58+00:00', 'moddate': '2023-03-03T08:40:21+00:00', 'trapped': '/False', 'source': './data/r2.0/pdfs/67185fca2a09b3c46ee961b2c1ae160dab8b5231.pdf', 'total_pages': 129, 'page': 104, 'page_label': '105', 'id': 104, 'sha1': '67185fca2a09b3c46ee961b2c1ae160dab8b5231'}, page_content='Financial Statements\\n(c) Auditors’ remuneration\\nDuring the year, the Group (including its subsidiaries) obtained the following services from the Company’s auditors \\nand its associates.\\n£’000 2022 2021\\nFees payable to the Company’s auditors for the audit of the Company’s annual financial statements:\\n – recurring and non-recurring audit fees 523 489\\nFees payable to the Company’s auditors and their associates for other services to the Group:\\n – audit of the Company’s subsidiaries pursuant to legislation 402 293\\n – audit-related assurance services 12 11\\n – all other non-audit services including Viewpoint subscription and, relevant to 2021 only, \\nSwitzerland gender equal pay analysis 1 5\\nFees charged to operating profit 938 798\\n4 Directors and employees\\nAccounting policy\\nEmployee benefits\\nWages, salaries, bonuses, social security contributions, paid annual leave or sick leave and any other employee \\nbenefits are accrued in the period in which the associated services are rendered by employees to the Group. \\nThe Group operates defined contribution pension schemes. The assets of the schemes are held separately from \\nthose of the Group in independently administered funds. The pension costs charged to the income statement \\nrepresent the contributions payable by the Group to the funds during each period.\\nShare-based payments\\nThe Group operates a number of equity-settled share-based arrangements, under which it receives services \\nfrom employees in return for equity instruments of the Group. The cost of equity-settled transactions with \\nemployees is measured by reference to the fair value at the date when equity instruments are granted and is \\nrecognised as an expense over the vesting period, which ends on the date on which the employees become fully \\nentitled to the award. Fair value is determined by using an appropriate valuation model.\\nNo expense is recognised for awards that do not ultimately vest. For the awards with non-vesting conditions \\n(awards that do not have an explicit or implicit service requirement), the full cost of the award is recognised on \\nthe grant date, i.e. they are treated as fully vested irrespective of whether or not the market condition is satisfied.\\nAt the end of the reporting period, the cumulative expense is calculated, representing the extent to which the \\nvesting period has expired and the best estimate of the achievement of non-market conditions and the number \\nof equity instruments that will ultimately vest. The movement in cumulative expense since the previous year end \\nis recognised in the income statement, with a corresponding credit recognised in equity.\\nWhere an equity-settled award is cancelled, it is treated as if it had vested on the date of cancellation and any \\ncost not yet recognised in the income statement for the award is expensed immediately. Any compensation \\npaid, up to the fair value of the award, at the cancellation or settlement date, is deducted from equity, with any \\nexcess over fair value being treated as an expense in the income statement.\\n3  Administrative expenses  continued\\n(b) Profit for the prior year included the following items that were unusual because of their nature, \\nsize or incidence:\\nAccounting policy\\nExceptional items\\nExceptional items, as disclosed on the face of the income statement, are items which due to their size and non-\\nrecurring nature are classified separately in order to draw them to the attention of the reader of the financial \\nstatements and to provide an alternative performance measure (APM) of the underlying profits of the Group.\\nGovernment grant income\\nGovernment grants represent assistance by government in the form of transfers of resources to SThree in return \\nfor compliance with grant conditions.\\nA government grant is recognised only when there is reasonable assurance that the Group will comply with any \\nconditions attached to the grant and that the grant will be received. The grant is recognised against the related \\ncosts for the period in which they are intended to compensate.\\nCritical accounting judgements\\nExceptional items\\nExceptional items are those items that the Group considers to be non-recurring and material in nature that \\nshould be brought to the reader’s attention in understanding the Group’s financial performance.\\nThe term ‘exceptional items’ is not separately defined within IFRS. Judgement is therefore required in assessing \\nwhich items of income or expense qualify as exceptional and that disclosure of this APM is useful for readers of \\nthe Annual Report.\\n£’000 2022 2021\\n1. Net exceptional income – 184\\n2. Impact of Covid-19:\\n    Government assistance income – 286\\nTotal – 470\\nNet exceptional income\\nIn the prior year, the Group recognised a net exceptional income of £0.2 million in relation to a legacy restructuring \\nprogramme partially funded by a grant receivable from Scottish Enterprise. The Group was entitled to the grant \\nuntil the end of 2021.\\nImpact of Covid-19\\nThe Covid-19 health crisis had implications on certain items of income in the Consolidated Financial Statements, \\naffecting the profit before tax for the current and prior year. These items were not treated as exceptional.\\nGovernment assistance income\\nIn the prior year, the Group took advantage of job retention schemes launched by the national governments of \\nFrance and Singapore, whereby it was reimbursed for a portion of salaries of furloughed personnel. A benefit of \\n£0.3 million was recognised and presented as a deduction in reporting the related staff expense. No such benefits \\nwere received in the current year.\\nNotes to the financial statements  continued\\nfor the year ended 30 November 2022\\n Annual Report and Accounts 2022  P-207P-206 SThree plc sthree.com'),\n",
       "  0.0),\n",
       " (Document(metadata={'producer': 'Adobe PDF Library 16.0.7', 'creator': 'Adobe InDesign 17.3 (Macintosh)', 'creationdate': '2023-03-02T12:01:58+00:00', 'moddate': '2023-03-03T08:40:21+00:00', 'trapped': '/False', 'source': './data/r2.0/pdfs/67185fca2a09b3c46ee961b2c1ae160dab8b5231.pdf', 'total_pages': 129, 'page': 105, 'page_label': '106', 'id': 105, 'sha1': '67185fca2a09b3c46ee961b2c1ae160dab8b5231'}, page_content='Financial Statements\\n5 Finance income and costs\\nAccounting policy\\nFinance income is recognised as the interest accrues to the net carrying amount of the financial asset. Finance \\ncost is recognised in the income statement in the period in which it is incurred.\\n£’000 2022 2021\\nFinance income\\nBank interest receivable 139 28\\nOther interest 2 6\\n141 34\\nFinance costs \\xa0\\nInterest on lease liability (530) (607)\\nBank loans and overdrafts (137) (262)\\n\\xa0 (667) (869)\\nNet finance costs (526) (835)\\n6 Income tax expense\\nAccounting policy\\nThe tax expense comprises both current and deferred tax. \\nCurrent tax\\nThe tax currently payable is based on taxable profit for the year. Taxable profit differs from profit before income \\ntax as reported in the income statement because it excludes items of income or expense that are taxable \\nor deductible in other years and it further excludes items that are never taxable or deductible. The Group’s \\nliability for current tax is calculated using tax rates that have been enacted or substantively enacted by the \\nreporting\\xa0date.\\nDeferred tax\\nDeferred tax is provided in full, using the liability method, on temporary differences at the reporting date arising \\nbetween the tax bases of assets and liabilities and their carrying amounts in the financial statements. Deferred \\ntax is calculated using tax rates that are expected to apply when the related deferred tax asset is realised or the \\ndeferred tax liability is settled, based on tax rates (and tax laws) that have been enacted or substantively enacted \\nby the reporting date.\\nDeferred tax assets are recognised only to the extent that it is probable that sufficient future taxable profits will \\nbe available to allow all or part of the deferred tax asset to be utilised. Where an entity has been loss-making, \\ndeferred tax assets are only recognised if there is convincing evidence supporting its future utilisation.\\n4 Directors and employees continued\\nAggregate remuneration of employees, including Directors, in continuing operations was:\\n£’000\\nGroup Company\\n2022 2021 2022 2021\\nWages and salaries (including bonuses) 229,460 195,414 2,457 3,186\\nSocial security costs 26,822 25,492 153 798\\nOther pension costs 3,161 2,115 13 12\\nTemporary staff costs 1,513 1,392 – –\\nShare-based payments (see note 20(b)) 5,054 1,507 525 160\\n266,010 225,920 3,148 4,156\\nThe staff costs capitalised during the year on internally developed assets (note 11) and not included in the above \\namounts were £0.3 million (2021: £0.6 million).\\nThe average monthly number of employees (including Executive Directors), in continuing operations, during the \\nyear was:\\n2022\\nEMEA \\nexcluding \\nDACH DACH USA APAC \\nGroup \\ntotal\\nCompany \\ntotal\\nSales 867 827 444 144 2,282 –\\nNon-sales 711 138 130 22 1,001 7\\n1,578 965 574 166 3,283 7\\n\\xa0\\n2021\\nEMEA  \\nexcluding \\nDACH DACH USA APAC \\nGroup  \\ntotal\\nCompany \\ntotal\\nSales 807 777 372 97 2,053 –\\nNon-sales 742 116 112 19 989 8\\n1,549 893 484 116 3,042 8\\nThe average number of employees is derived by dividing the sum of the number of employees employed under \\ncontracts of service in each month (whether throughout the month or not) by the number of months in the financial \\nyear, irrespective of whether they are full-time or part-time.\\nThere were also 3,613 (2021: 3,338) contractors engaged during the year under the Employed Contractor Model. \\nThey are not included in the numbers above as they are not considered to be full-time employees of the Group.\\nDetails of the Directors’ remuneration for the year, including the highest paid Director, which form part of these \\nfinancial statements, are provided in the audited information section of the Directors’ remuneration report \\n(section\\xa01.1).\\nDirectors’ compensation for loss of office was £0.1 million (2021: £1.1 million).\\nNotes to the financial statements  continued\\nfor the year ended 30 November 2022\\n Annual Report and Accounts 2022  P-209P-208 SThree plc sthree.com'),\n",
       "  0.0),\n",
       " (Document(metadata={'producer': 'Adobe PDF Library 16.0.7', 'creator': 'Adobe InDesign 17.3 (Macintosh)', 'creationdate': '2023-03-02T12:01:58+00:00', 'moddate': '2023-03-03T08:40:21+00:00', 'trapped': '/False', 'source': './data/r2.0/pdfs/67185fca2a09b3c46ee961b2c1ae160dab8b5231.pdf', 'total_pages': 129, 'page': 106, 'page_label': '107', 'id': 106, 'sha1': '67185fca2a09b3c46ee961b2c1ae160dab8b5231'}, page_content='Financial Statements\\n(c) Current and deferred tax movement recognised directly in equity\\n£’000 2022 2021\\nEquity-settled share-based payments: \\xa0\\nCurrent tax credit 196 4\\nDeferred tax (charge)/credit (574) 643\\n\\xa0 (378) 647\\nThe Group expects to receive additional tax deductions in respect of share options currently unexercised. The \\nGroup provides for deferred tax on all unexercised share options. Where the amount of the tax deduction (or \\nestimated future tax deduction) exceeds the amount of the related cumulative remuneration expense, this indicates \\nthat the tax deduction relates not only to remuneration expense but also to an equity item. In this situation, the \\nexcess of the current or deferred tax should be recognised in equity. At 30 November 2022, a deferred tax asset of \\n£1.1 million (2021: £1.5 million) was recognised in respect of these options (note 19).\\n7  Business disposals\\nHong Kong\\nIn September 2022, the Board approved the plan for the closure of our Hong Kong business due to continued \\nunderperformance in trading in the past years and lack of realisable potential for growth. \\nAlready in 2017 when reviewing the Group’s presence in the APAC region, the Board significantly downsized \\noperations in Hong Kong, reducing it to a satellite office. Most recently, it became clear that our continued trading \\nin Hong Kong remained sub-optimal and was no longer a viable investment option.\\nAt the end of November 2022, all current agreements with contractors were in the process of being terminated \\nor being transferred to an external agency. Overall, the closure of Hong Kong resulted in additional costs of \\n£0.2\\xa0million incurred by the Group, mainly in relation to personnel termination benefits.\\nThis disposal did not meet the definition of discontinued operations given in IFRS 5 ‘Non-Current Assets Held for \\nSale and Discontinued Operations’ and, therefore, no disclosures in relation to discontinued operations were made.\\nAustralia\\nIn the financial year ended 30 November 2020, the Group liquidated the Australian subsidiary (‘SThree Australia’), \\nthe operations of which represented a separate major line of business for SThree. Since then, SThree Australia \\nwas treated as discontinued operations and its results were reported separately from the continuing operations of \\nthe\\xa0Group.\\nIn the prior year, the post-tax loss of £0.3 million from discontinued operations was reported on the face of \\nthe Consolidated Income Statement, which comprised the following items of income and expense after intra-\\ngroup\\xa0eliminations.\\n£’000 2022 2021\\nCost of sales – (20)\\nAdministrative expenses – (13)\\nOperating loss – (33)\\nLoss before and after income tax from discontinued operations – (33)\\nReclassification of foreign currency translation reserve – (236)\\nTotal comprehensive loss on liquidation of the subsidiary – (269)\\nNet cash flows used by discontinued operations were as follows in the prior year:\\nOperating activities – (848)\\n6 Income tax expense continued\\n(a) Analysis of tax charge for the year\\n£’000\\n2022 2021\\n T otal \\n Before \\nexceptional \\nitems \\n Exceptional \\nitems  Total \\nCurrent income tax\\nCorporation tax charged on profits for the year 23,409 18,142 35 18,177\\nAdjustments in respect of prior periods (133) 1,989 – 1,989\\nTotal current tax charge 23,276 20,131 35 20,166\\nDeferred income tax \\xa0\\nOrigination and reversal of temporary differences (395) (276) – (276)\\nAdjustments in respect of prior periods (note 19) (57) (1,983) – (1,983)\\nTotal deferred tax credit (452) (2,259) – (2,259)\\nTotal income tax charge in the Consolidated Income Statement 22,824 17,872 35 17,907\\nThe total income tax charge relates entirely to continuing operations.\\n(b) Reconciliation of the effective tax rate\\nThe Group’s tax charge for the year exceeds (2021: exceeds) the UK statutory rate and can be reconciled as follows:\\n£’000\\n2022 2021\\n T otal \\n Before \\nexceptional \\nitems \\n Exceptional \\nitems  Total \\nProfit before income tax from continuing operations 77,026 59,974 184 60,158 \\nLoss before income tax from discontinued operations – (269) – (269)\\nProfit before income tax for the Group 77,026 59,705 184 59,889\\nProfit before income tax multiplied by the standard rate of \\ncorporation\\xa0tax in the UK at 19.0% (2021: 19.0%) 14,635 11,344 35 11,379\\nEffects of: \\xa0\\nDisallowable items 1,905 1,650 – 1,650\\nDiffering tax rates on overseas earnings 5,590 3,897 – 3,897\\nAdjustments in respect of prior periods (190) 6 – 6\\nAdjustments due to tax rate changes (294) (149) – (149)\\nTax losses for which deferred tax asset was not recognised or \\nderecognised 1,178 1,124 – 1,124\\nTotal tax charge for the year 22,824 17,872 35 17,907\\nAt the effective tax rate 29.6% 29.9% 19.0% 29.9%\\nEffective tax rate attributable to continuing operations 29.6% 29.8% – 29.8%\\nNotes to the financial statements  continued\\nfor the year ended 30 November 2022\\n Annual Report and Accounts 2022  P-211P-210 SThree plc sthree.com'),\n",
       "  0.0),\n",
       " (Document(metadata={'producer': 'Adobe PDF Library 16.0.7', 'creator': 'Adobe InDesign 17.3 (Macintosh)', 'creationdate': '2023-03-02T12:01:58+00:00', 'moddate': '2023-03-03T08:40:21+00:00', 'trapped': '/False', 'source': './data/r2.0/pdfs/67185fca2a09b3c46ee961b2c1ae160dab8b5231.pdf', 'total_pages': 129, 'page': 119, 'page_label': '120', 'id': 119, 'sha1': '67185fca2a09b3c46ee961b2c1ae160dab8b5231'}, page_content=\"Financial Statements\\nThe table below shows the maturity profile of the financial liabilities which are held at amortised cost based on the \\ncontractual amounts payable on the date of repayment:\\nLease liabilities\\nTrade and other payables, \\nincluding bank overdrafts\\n£'000 Group Group Company\\nAt 30 November 2022\\nWithin one year 11,023 189,547 53,602\\nMore than one year 23,254 – –\\n34,277 189,547 53,602\\nAt 30 November 2021\\nWithin one year 13,081 173,315 105,387\\nMore than one year 21,987 – –\\n35,068 173,315 105,387\\n(d) Credit risk management\\n(i) Risk management\\nCredit risk refers to the risk that a counterparty will default on its contractual obligations resulting in financial loss \\nto the Group. \\nIn the normal course of business, the Group participates in cash pooling arrangements with its counterparty \\nbank. The maximum exposure to a single banking group for deposits and funds held on account at the year end \\nwas £40.6 million (2021: £43.5 million). The Group will not accept any counterparty bank for its deposits unless it \\nhas been awarded a minimum recognised credit rating of A3/Prime-2 (Moody’s). Some local banks in emerging \\nmarkets may have lower ratings but the funds at risk will be small. The Group will permit exposures with individual \\ncounterparty banks and exposure types up to pre-defined limits as part of the Group treasury policy. Exposure to \\nall transaction limits is monitored daily.\\nThe Group mitigates its credit risk from trade receivables by using a credit rating agency to assess new clients and \\npayment history to consider further credit extensions to existing clients. In addition, the spread of the client base \\n(over 8,200 clients) helps to mitigate the risk of individual client failure having a material impact on the Group.\\nThe Group does not typically renegotiate the terms of trade receivables; hence the outstanding balance is included \\nin the analysis based on the original payment terms. There were no significant renegotiated balances outstanding \\nat the year end.\\nThe Group’s credit risk from loans given to certain tracker shareholders (note 13) is immaterial. In 2022, five loans \\nwere repaid in full, and only three remain outstanding (2021: eight outstanding tracker share loans) for the total \\namount of £0.1 million. Exposure to loans from individuals is regularly monitored and the individuals are asked \\nto settle all or a portion of their outstanding balances when their tracker shares are settled, when they receive \\ndividends or if they leave the business.\\nClimate-related matters\\nIn the current year, the management team continued to monitor and mitigate any potential deterioration in clients’ \\ncredit risk, in particular for a small proportion of the Group’s clients which are exposed to physical and transition \\nrisks associated with climate change. No material financial impact or deterioration in our clients’ ability to settle \\ntheir debt obligations was identified.\\nIn the near future, in line with the Group’s climate change strategy, the management team has plans to establish \\ncredit rating/scoring matrix which will help us to assess how our clients address ESG matters within their \\norganisations, and whether their policies meet our standards and risk appetite.\\n24 Financial instruments and financial risk management continued\\nThe capital structure of the Group consists of equity attributable to owners of the parent of £200.4 million \\n(2021:\\xa0£158.2 million), comprising share capital, share premium, other reserves and retained earnings as disclosed \\nin the Consolidated Statement of Changes in Equity and net cash of £65.4 million (2021: £57.5 million), comprising \\ncash and cash equivalents less bank overdraft (note 14).\\nExcept for compliance with certain bank covenants (note 24(c)), the Group is not subject to any externally imposed \\ncapital requirements.\\n(b) Foreign currency exchange risk management \\nThe Group uses Sterling as its presentation currency. It undertakes transactions in a number of foreign currencies. \\nConsequently, exposures to exchange rate fluctuations do arise. Such exchange rate movements affect the \\nGroup’s transactional revenues, cost of sales, the translation of earnings and the net assets/liabilities of its \\noverseas\\xa0operations.\\nThe Group is also exposed to foreign currency risks from the value of net investments outside the United Kingdom. \\nThe intercompany loans which are treated as net investments in foreign operations are not planned to be settled in \\nthe foreseeable future as they are deemed to be a part of the investment. Therefore, exchange differences arising \\nfrom the translation of the net investment loans are taken into equity.\\nThe Group’s businesses generally raise invoices and incur expenses in their local currencies. Local currency cash \\ngenerated is remitted via intercompany transfers to the United Kingdom. The Group generally converts foreign \\ncurrency balances into Sterling to manage its cash flows.\\nForeign currency sensitivity analysis\\nThe Group is mainly exposed to the Euro and the US Dollar. If the Euro or the US Dollar strengthened against \\nSterling by a movement of 10%, the anticipated impact on the Group’s results in terms of translational exposure \\nwould be an increase in profit before income tax of £6.9 million and £3.4 million (2021: £7.0 million and £3.1 million) \\nrespectively, with a similar decrease if the Euro or the US Dollar weakened against Sterling by 10%. \\n(c) Liquidity risk management\\nThe Group’s treasury function centrally coordinates relationships with banks, manages borrowing requirements, \\nforeign exchange needs and cash management. The Group has access to a committed RCF of £50.0 million along \\nwith an uncommitted £30.0 million accordion facility in place with HSBC and Citibank, giving the Group an option \\nto increase its total borrowings under the facility to £80.0 million. At the year end, £nil (2021: £nil) was drawn down \\non these facilities. The Group also has an uncommitted £5.0 million overdraft facility with HSBC of which £0.4 \\nmillion was used at the year end.\\nThe RCF is subject to certain covenants requiring the Group to maintain financial ratios over interest cover, leverage \\nand guarantor cover. The Group complied with these covenants throughout the year.\\n(i)  Interest cover: interest cover shall not be less than the ratio of 4:1 at any time;\\n(ii)  Leverage: the ratio of total net debt on the last day of a period to the adjusted EBITDA in respect of that period \\nshall not exceed the ratio of 3:1; and\\n(iii)  Guarantor cover: the aggregate adjusted EBITDA and gross assets of all the guarantor subsidiaries must at all \\ntimes represent at least 80% of the adjusted EBITDA and gross assets of the Group as a whole.\\nNotes to the financial statements continued\\nfor the year ended 30 November 2022\\n Annual Report and Accounts 2022  P-237P-236 SThree plc sthree.com\"),\n",
       "  0.0),\n",
       " (Document(metadata={'producer': 'Adobe PDF Library 16.0.7', 'creator': 'Adobe InDesign 17.3 (Macintosh)', 'creationdate': '2023-03-02T12:01:58+00:00', 'moddate': '2023-03-03T08:40:21+00:00', 'trapped': '/False', 'source': './data/r2.0/pdfs/67185fca2a09b3c46ee961b2c1ae160dab8b5231.pdf', 'total_pages': 129, 'page': 125, 'page_label': '126', 'id': 125, 'sha1': '67185fca2a09b3c46ee961b2c1ae160dab8b5231'}, page_content=\"Financial Statements\\nFive-year financial summary\\n30 November\\n2022\\n30 November\\n2021\\n30 November\\n2020\\n30 November\\n2019\\n30 November\\n2018\\nFinancial metrics1\\nRevenue (£'m) 1,639.4 1,330.7 1,202.6 1,324.7 1,235.8\\nNet fees (£'m) 430.6 355.7 308.6 338.0 316.5\\nOperating profit (£'m)2 77.6 60.8 31.3 60.0 53.8\\nOperating profit conversion ratio2 18.0% 17.1% 10.1% 17.8% 17.0%\\nBasic EPS (pence)2 41.0 31.8 13.9 33.2 30.7\\nOther Group ratios\\nTotal assets (£'m) 470.4 400.6 334.5 305.1 360.5\\nTotal equity (£'m) 200.4 158.2 128.5 116.8 101.7\\nNet cash/(debt) (£'m) 65.4 57.5 49.9 10.6 (4.1)\\nCash from operations (£'m) 64.4 54.5 76.9 54.8 40.6\\nFree cash conversion ratio2 40.2% 40.4% 177.8% 68.3% 47.7%\\nTotal dividend per share (pence) 16.0 11.0 5.0 15.3 14.5\\nGroup operational statistics\\nAverage total headcount3 2,890 2,588 2,894 3,109 2,926\\nAverage sales headcount3 2,114 1,911 2,219 2,423 2,254\\nActive contractors at year end 12,533 11,809 9,523 11,110 11,203\\n1.  Financial metrics are presented for continuing operations only.\\n2.  The results for the years 2018 to 2021 are presented on an adjusted basis, i.e. excluding the impact of exceptional items.\\n3.  Based on full-time equivalents.\\nOther information\\nResults announcement timetable\\nSThree plc confirms the following forthcoming dates in the Group financial calendar:\\n2023\\n21 March 2023 FY23 Q1 Trading Update\\n19 April 2023 Annual General Meeting*\\n20 June 2023 FY23 Half Year Trading Update\\n25 July 2023 FY23 Half Year Results\\n19 September 2023 FY23 Q3 Trading Update\\n14 December 2023 FY23 Trading Update\\n2024\\n30 January 2024 FY23 Final Results\\n \\n* The Group does not normally provide a trading update at the time of its Annual General Meeting.\\n \\n Annual Report and Accounts 2022  P-249P-248 SThree plc sthree.com\"),\n",
       "  0.0)]"
      ]
     },
     "execution_count": 8,
     "metadata": {},
     "output_type": "execute_result"
    }
   ],
   "execution_count": 8
  },
  {
   "metadata": {
    "ExecuteTime": {
     "end_time": "2025-03-06T17:31:15.209944Z",
     "start_time": "2025-03-06T17:26:39.646636Z"
    }
   },
   "cell_type": "code",
   "source": [
    "from lib.Agent import IBMWatsonAgent\n",
    "\n",
    "dummy.llm = IBMWatsonAgent(model=\"deepseek/deepseek-r1-distill-llama-70b\")\n",
    "\n",
    "relevance_holder = []\n",
    "for d in documents[0:10]:\n",
    "    text = f\"Evaluate the context for its relevance to the question: '{question}'.\"\n",
    "    print(text, d[0].metadata['page'])\n",
    "    d[0].metadata['company'] = extracts['companies'][0]\n",
    "    print(d[0].metadata['company'])\n",
    "    relevance_answer = dummy.llm.query(\n",
    "        text=text,\n",
    "        data=[d],\n",
    "        path=f\"./prompt/relevance_prompt.txt\",\n",
    "        system=\"You are competent financial analytic.\")\n",
    "    print(relevance_answer)\n",
    "    relevance_holder.append({ \"page\": d[0].metadata['page'], \"relevance\": relevance_answer })"
   ],
   "id": "bc899dc91fdda364",
   "outputs": [
    {
     "name": "stdout",
     "output_type": "stream",
     "text": [
      "Evaluate the context for its relevance to the question: 'For SThree plc, what was the value of End-of-year total headcount at the end of the period listed in annual report? If data is not available, return 'N/A'.'. 3\n",
      "SThree plc\n",
      "0.90\n",
      "Evaluate the context for its relevance to the question: 'For SThree plc, what was the value of End-of-year total headcount at the end of the period listed in annual report? If data is not available, return 'N/A'.'. 39\n",
      "SThree plc\n",
      "0.75\n",
      "Evaluate the context for its relevance to the question: 'For SThree plc, what was the value of End-of-year total headcount at the end of the period listed in annual report? If data is not available, return 'N/A'.'. 57\n",
      "SThree plc\n",
      "0.0\n",
      "Evaluate the context for its relevance to the question: 'For SThree plc, what was the value of End-of-year total headcount at the end of the period listed in annual report? If data is not available, return 'N/A'.'. 69\n",
      "SThree plc\n",
      "0.0\n",
      "Evaluate the context for its relevance to the question: 'For SThree plc, what was the value of End-of-year total headcount at the end of the period listed in annual report? If data is not available, return 'N/A'.'. 81\n",
      "SThree plc\n",
      "0.0\n",
      "Evaluate the context for its relevance to the question: 'For SThree plc, what was the value of End-of-year total headcount at the end of the period listed in annual report? If data is not available, return 'N/A'.'. 83\n",
      "SThree plc\n",
      "0.0\n",
      "Evaluate the context for its relevance to the question: 'For SThree plc, what was the value of End-of-year total headcount at the end of the period listed in annual report? If data is not available, return 'N/A'.'. 85\n",
      "SThree plc\n",
      "0.0\n",
      "Evaluate the context for its relevance to the question: 'For SThree plc, what was the value of End-of-year total headcount at the end of the period listed in annual report? If data is not available, return 'N/A'.'. 86\n",
      "SThree plc\n",
      "0.0\n",
      "Evaluate the context for its relevance to the question: 'For SThree plc, what was the value of End-of-year total headcount at the end of the period listed in annual report? If data is not available, return 'N/A'.'. 87\n",
      "SThree plc\n",
      "0.0\n",
      "Evaluate the context for its relevance to the question: 'For SThree plc, what was the value of End-of-year total headcount at the end of the period listed in annual report? If data is not available, return 'N/A'.'. 96\n",
      "SThree plc\n",
      "0.0\n"
     ]
    }
   ],
   "execution_count": 9
  },
  {
   "metadata": {
    "ExecuteTime": {
     "end_time": "2025-03-06T17:31:15.235788Z",
     "start_time": "2025-03-06T17:31:15.232430Z"
    }
   },
   "cell_type": "code",
   "source": [
    "import re\n",
    "\n",
    "print(relevance_holder)\n",
    "\n",
    "filtered_scores = list(filter(dummy.filter_function ,list(map(dummy.mapper, relevance_holder))))\n",
    "filtered_scores"
   ],
   "id": "26b6931ccd66394c",
   "outputs": [
    {
     "name": "stdout",
     "output_type": "stream",
     "text": [
      "[{'page': 3, 'relevance': '0.90'}, {'page': 39, 'relevance': '0.75'}, {'page': 57, 'relevance': '0.0'}, {'page': 69, 'relevance': '0.0'}, {'page': 81, 'relevance': '0.0'}, {'page': 83, 'relevance': '0.0'}, {'page': 85, 'relevance': '0.0'}, {'page': 86, 'relevance': '0.0'}, {'page': 87, 'relevance': '0.0'}, {'page': 96, 'relevance': '0.0'}]\n"
     ]
    },
    {
     "data": {
      "text/plain": [
       "[{'page': 3, 'relevance': 0.9}, {'page': 39, 'relevance': 0.75}]"
      ]
     },
     "execution_count": 10,
     "metadata": {},
     "output_type": "execute_result"
    }
   ],
   "execution_count": 10
  },
  {
   "metadata": {
    "ExecuteTime": {
     "end_time": "2025-03-06T17:31:40.526056Z",
     "start_time": "2025-03-06T17:31:15.269615Z"
    }
   },
   "cell_type": "code",
   "source": [
    "dummy.llm = IBMWatsonAgent(model=\"deepseek/deepseek-r1-distill-llama-70b\")\n",
    "\n",
    "for f in list(filtered_scores):\n",
    "    print(f)\n",
    "    d = dummy.read_markdown(sha1, [(f['page'], 0)])\n",
    "    answer = dummy.llm.query(\n",
    "        text=question,\n",
    "        data=d,\n",
    "        path=f\"./prompt/number_prompt.txt\",\n",
    "        system=\"You are competent financial analytic.\")\n",
    "    print(answer)"
   ],
   "id": "bf5d2233595b6c9d",
   "outputs": [
    {
     "name": "stdout",
     "output_type": "stream",
     "text": [
      "{'page': 3, 'relevance': 0.9}\n",
      "3119\n",
      "{'page': 39, 'relevance': 0.75}\n",
      "2364\n"
     ]
    }
   ],
   "execution_count": 11
  },
  {
   "metadata": {
    "ExecuteTime": {
     "end_time": "2025-03-06T17:31:40.541356Z",
     "start_time": "2025-03-06T17:31:40.537454Z"
    }
   },
   "cell_type": "code",
   "source": [
    "filtered_pages = list(map(lambda x: (x['page'], x['relevance']), filtered_scores))\n",
    "filtered_pages"
   ],
   "id": "4541e6e796099c93",
   "outputs": [
    {
     "data": {
      "text/plain": [
       "[(3, 0.9), (39, 0.75)]"
      ]
     },
     "execution_count": 12,
     "metadata": {},
     "output_type": "execute_result"
    }
   ],
   "execution_count": 12
  },
  {
   "metadata": {
    "ExecuteTime": {
     "end_time": "2025-03-06T17:32:16.140189Z",
     "start_time": "2025-03-06T17:31:40.561190Z"
    }
   },
   "cell_type": "code",
   "source": [
    "d = dummy.read_markdown(sha1, filtered_pages)\n",
    "answer = dummy.llm.query(\n",
    "        text=question,\n",
    "        data=d,\n",
    "        path=f\"./prompt/number_prompt.txt\",\n",
    "        system=\"You are competent financial analytic.\")\n",
    "print(answer)"
   ],
   "id": "a36d976c53cab378",
   "outputs": [
    {
     "name": "stdout",
     "output_type": "stream",
     "text": [
      "3119\n"
     ]
    }
   ],
   "execution_count": 13
  }
 ],
 "metadata": {
  "kernelspec": {
   "display_name": "Python 3",
   "language": "python",
   "name": "python3"
  },
  "language_info": {
   "codemirror_mode": {
    "name": "ipython",
    "version": 2
   },
   "file_extension": ".py",
   "mimetype": "text/x-python",
   "name": "python",
   "nbconvert_exporter": "python",
   "pygments_lexer": "ipython2",
   "version": "2.7.6"
  }
 },
 "nbformat": 4,
 "nbformat_minor": 5
}
